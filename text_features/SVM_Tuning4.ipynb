{
 "metadata": {
  "kernelspec": {
   "display_name": "Python 2",
   "language": "python",
   "name": "python2"
  },
  "language_info": {
   "codemirror_mode": {
    "name": "ipython",
    "version": 2
   },
   "file_extension": ".py",
   "mimetype": "text/x-python",
   "name": "python",
   "nbconvert_exporter": "python",
   "pygments_lexer": "ipython2",
   "version": "2.7.8"
  },
  "name": "",
  "signature": "sha256:dbb2976ea49710e8cde8ca64fb953b79eae5db9b38b3b09915d22ae08be78d74"
 },
 "nbformat": 3,
 "nbformat_minor": 0,
 "worksheets": [
  {
   "cells": [
    {
     "cell_type": "code",
     "collapsed": false,
     "input": [
      "%matplotlib inline\n",
      "%load_ext autoreload\n",
      "%autoreload 2"
     ],
     "language": "python",
     "metadata": {},
     "outputs": [],
     "prompt_number": 1
    },
    {
     "cell_type": "code",
     "collapsed": true,
     "input": [
      "import sys\n",
      "import math\n",
      "import pandas as pd\n",
      "import numpy as np\n",
      "import pickle\n",
      "import seaborn as sbn\n",
      "from pymongo import MongoClient\n",
      "import matplotlib.pyplot as plt\n",
      "\n",
      "sys.path.append(\"src/main/python\")"
     ],
     "language": "python",
     "metadata": {},
     "outputs": [],
     "prompt_number": 2
    },
    {
     "cell_type": "code",
     "collapsed": false,
     "input": [
      "import trainer\n",
      "import train_tfidf\n",
      "import train_pmodel\n",
      "import train_lmodel"
     ],
     "language": "python",
     "metadata": {},
     "outputs": [],
     "prompt_number": 3
    },
    {
     "cell_type": "code",
     "collapsed": false,
     "input": [
      "# Load our dataset, split the dataset into train and test\n",
      "# Then save it off into training and test sets\n",
      "\n",
      "dataset_path = \"dataset.csv\"\n",
      "train_path = \"train.csv\"\n",
      "test_path = \"test.csv\"\n",
      "force_refresh = False\n",
      "\n",
      "# Roughly 80/20 split\n",
      "train_size = 300000\n",
      "\n",
      "#df = trainer.load(\"dataset.csv\", force_refresh)\n",
      "df = trainer.load(dataset_path, force_refresh)\n",
      "shuf = np.random.random_integers(df.shape[0], size=df.shape[0])\n",
      "print df.shape\n",
      "\n",
      "train = df.iloc[shuf[:train_size]]\n",
      "print train.shape\n",
      "train.to_csv(train_path, encoding='utf-8')\n",
      "\n",
      "test = df.iloc[shuf[train_size:]]\n",
      "test = test.loc[pd.notnull(test['airport'])]\n",
      "print test.shape\n",
      "test.to_csv(test_path, encoding='utf-8')"
     ],
     "language": "python",
     "metadata": {},
     "outputs": [
      {
       "output_type": "stream",
       "stream": "stdout",
       "text": [
        "[trainer] loading existing data at dataset.csv\n",
        "(398120, 24)"
       ]
      },
      {
       "output_type": "stream",
       "stream": "stdout",
       "text": [
        "\n",
        "(300000, 24)"
       ]
      },
      {
       "output_type": "stream",
       "stream": "stdout",
       "text": [
        "\n",
        "(7563, 24)"
       ]
      },
      {
       "output_type": "stream",
       "stream": "stdout",
       "text": [
        "\n"
       ]
      }
     ],
     "prompt_number": 4
    },
    {
     "cell_type": "code",
     "collapsed": false,
     "input": [
      "# Load the dataset\n",
      "import trainer\n",
      "import train_tfidf\n",
      "import train_pmodel\n",
      "import train_lmodel\n",
      "\n",
      "# Define the extractor function we want to use\n",
      "# and the recommendation model that we want to train\n",
      "ex = train_tfidf.post_tfidf\n",
      "rm = train_pmodel.post_svm\n",
      "model_template_path = \"models/train_SVMmodel4_%d.pickle\"\n",
      "\n",
      "# Put your configs you want to try here\n",
      "cfgs = [\n",
      "    { 'C': 0.015625, 'kernel': 'linear' },\n",
      "    { 'C': 0.0078125, 'kernel': 'linear' },\n",
      "    { 'C': 128.0, 'kernel': 'linear' },\n",
      "    { 'C': 256.0, 'kernel': 'linear' }\n",
      "]\n",
      "res = { 'cfg': [], 'precision': [], 'recall': [], 'f1': [] }\n",
      "\n",
      "# For each config, train a model\n",
      "for i,cfg in enumerate(cfgs):\n",
      "    print >> sys.stderr, \"Training %s\" % cfg\n",
      "    tr = trainer.Trainer(ex, rm)\n",
      "    m, metrics = tr.run(model_template_path % i, train_path, df_test = test, **cfg)\n",
      "    res['cfg'].append(cfg)\n",
      "    res['precision'].append(metrics['precision'])\n",
      "    res['recall'].append(metrics['recall'])\n",
      "    res['f1'].append(metrics['f1'])\n",
      "    \n",
      "res = pd.DataFrame(res)   \n",
      "print res\n",
      "\n",
      "plt.figure(figsize=(20, 10))\n",
      "plt.subplot(1, 3, 1)\n",
      "plt.bar(range(res.shape[0]), res['precision'])\n",
      "plt.title('Precision')\n",
      "plt.xlabel('Job #')\n",
      "plt.xticks(range(res.shape[0]))\n",
      "\n",
      "plt.subplot(1, 3, 2)\n",
      "plt.bar(range(res.shape[0]), res['recall'])\n",
      "plt.title('Recall')\n",
      "plt.xlabel('Job #')\n",
      "plt.xticks(range(res.shape[0]))\n",
      "\n",
      "plt.subplot(1, 3, 3)\n",
      "plt.bar(range(res.shape[0]), res['f1'])\n",
      "plt.title('F1')\n",
      "plt.xlabel('Job #')\n",
      "plt.xticks(range(res.shape[0]))\n",
      "\n",
      "plt.show()"
     ],
     "language": "python",
     "metadata": {},
     "outputs": [
      {
       "output_type": "stream",
       "stream": "stdout",
       "text": [
        "[trainer] loading existing data at train.csv\n",
        "Post BOW Dataset: (22569, 127957), (22569,)"
       ]
      },
      {
       "output_type": "stream",
       "stream": "stderr",
       "text": [
        "Training {'kernel': 'linear', 'C': 0.015625}\n",
        "Found 2354 unique locations"
       ]
      },
      {
       "output_type": "stream",
       "stream": "stdout",
       "text": [
        "\n",
        "{'f1': 0.0007692954936112413, 'recall': 0.004231125214861828, 'n_pred': 7563, 'precision': 0.00042311252148618275, 'coverage': 10.0, 'n_truth': 7563}"
       ]
      },
      {
       "output_type": "stream",
       "stream": "stdout",
       "text": [
        "\n",
        "Saved probability model"
       ]
      },
      {
       "output_type": "stream",
       "stream": "stderr",
       "text": [
        "\n",
        "Found test set, computing precision, recall\n",
        "Test shape: ((7563, 127957), (7563,))\n",
        "error in train <cluster.PModel object at 0x13709a990>"
       ]
      },
      {
       "output_type": "stream",
       "stream": "stderr",
       "text": [
        "\n",
        "Training {'kernel': 'linear', 'C': 0.0078125}"
       ]
      },
      {
       "output_type": "stream",
       "stream": "stdout",
       "text": [
        "\n",
        "[trainer] loading existing data at train.csv"
       ]
      },
      {
       "output_type": "stream",
       "stream": "stdout",
       "text": [
        "\n",
        "Post BOW Dataset: (22569, 127957), (22569,)"
       ]
      },
      {
       "output_type": "stream",
       "stream": "stderr",
       "text": [
        "\n",
        "Found 2354 unique locations"
       ]
      },
      {
       "output_type": "stream",
       "stream": "stdout",
       "text": [
        "\n",
        "{'f1': 0.0011299027562415107, 'recall': 0.006214465159328309, 'n_pred': 7563, 'precision': 0.0006214465159328309, 'coverage': 10.0, 'n_truth': 7563}"
       ]
      },
      {
       "output_type": "stream",
       "stream": "stdout",
       "text": [
        "\n",
        "Saved probability model"
       ]
      },
      {
       "output_type": "stream",
       "stream": "stderr",
       "text": [
        "\n",
        "Found test set, computing precision, recall\n",
        "Test shape: ((7563, 127957), (7563,))\n",
        "error in train <cluster.PModel object at 0x14dab2510>"
       ]
      },
      {
       "output_type": "stream",
       "stream": "stderr",
       "text": [
        "\n",
        "Training {'kernel': 'linear', 'C': 128.0}"
       ]
      },
      {
       "output_type": "stream",
       "stream": "stdout",
       "text": [
        "\n",
        "[trainer] loading existing data at train.csv"
       ]
      },
      {
       "output_type": "stream",
       "stream": "stdout",
       "text": [
        "\n",
        "Post BOW Dataset: (22569, 127957), (22569,)"
       ]
      },
      {
       "output_type": "stream",
       "stream": "stderr",
       "text": [
        "\n",
        "Found 2354 unique locations"
       ]
      },
      {
       "output_type": "stream",
       "stream": "stdout",
       "text": [
        "\n",
        "{'f1': 0.0006971740410851875, 'recall': 0.003834457225968531, 'n_pred': 7563, 'precision': 0.0003834457225968531, 'coverage': 10.0, 'n_truth': 7563}"
       ]
      },
      {
       "output_type": "stream",
       "stream": "stdout",
       "text": [
        "\n",
        "Saved probability model"
       ]
      },
      {
       "output_type": "stream",
       "stream": "stderr",
       "text": [
        "\n",
        "Found test set, computing precision, recall\n",
        "Test shape: ((7563, 127957), (7563,))\n",
        "error in train <cluster.PModel object at 0x14cfa3910>"
       ]
      },
      {
       "output_type": "stream",
       "stream": "stderr",
       "text": [
        "\n",
        "Training {'kernel': 'linear', 'C': 256.0}"
       ]
      },
      {
       "output_type": "stream",
       "stream": "stdout",
       "text": [
        "\n",
        "[trainer] loading existing data at train.csv"
       ]
      },
      {
       "output_type": "stream",
       "stream": "stdout",
       "text": [
        "\n",
        "Post BOW Dataset: (22569, 127957), (22569,)"
       ]
      },
      {
       "output_type": "stream",
       "stream": "stderr",
       "text": [
        "\n",
        "Found 2354 unique locations"
       ]
      },
      {
       "output_type": "stream",
       "stream": "stdout",
       "text": [
        "\n",
        "{'f1': 0.0006490930727344849, 'recall': 0.0035700119000396666, 'n_pred': 7563, 'precision': 0.0003570011900039667, 'coverage': 10.0, 'n_truth': 7563}"
       ]
      },
      {
       "output_type": "stream",
       "stream": "stdout",
       "text": [
        "\n",
        "Saved probability model"
       ]
      },
      {
       "output_type": "stream",
       "stream": "stderr",
       "text": [
        "\n",
        "Found test set, computing precision, recall\n",
        "Test shape: ((7563, 127957), (7563,))\n",
        "error in train <cluster.PModel object at 0x148183a10>"
       ]
      },
      {
       "output_type": "stream",
       "stream": "stdout",
       "text": [
        "\n",
        "                                       cfg        f1  precision    recall\n",
        "0   {u'kernel': u'linear', u'C': 0.015625}  0.000769   0.000423  0.004231\n",
        "1  {u'kernel': u'linear', u'C': 0.0078125}  0.001130   0.000621  0.006214\n",
        "2      {u'kernel': u'linear', u'C': 128.0}  0.000697   0.000383  0.003834\n",
        "3      {u'kernel': u'linear', u'C': 256.0}  0.000649   0.000357  0.003570"
       ]
      },
      {
       "output_type": "stream",
       "stream": "stdout",
       "text": [
        "\n"
       ]
      },
      {
       "output_type": "stream",
       "stream": "stderr",
       "text": [
        "\n"
       ]
      },
      {
       "metadata": {},
       "output_type": "display_data",
       "png": "[encoded data removed]",
       "text": [
        "<matplotlib.figure.Figure at 0x137fff1d0>"
       ]
      }
     ],
     "prompt_number": 5
    },
    {
     "cell_type": "code",
     "collapsed": false,
     "input": [],
     "language": "python",
     "metadata": {},
     "outputs": [],
     "prompt_number": 5
    },
    {
     "cell_type": "code",
     "collapsed": false,
     "input": [],
     "language": "python",
     "metadata": {},
     "outputs": [],
     "prompt_number": 5
    }
   ],
   "metadata": {}
  }
 ]
}