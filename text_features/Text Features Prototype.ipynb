{
 "cells": [
  {
   "cell_type": "code",
   "execution_count": 2,
   "metadata": {
    "collapsed": false
   },
   "outputs": [],
   "source": [
    "%matplotlib inline\n",
    "%load_ext autoreload\n",
    "%autoreload 2"
   ]
  },
  {
   "cell_type": "code",
   "execution_count": 3,
   "metadata": {
    "collapsed": false
   },
   "outputs": [],
   "source": [
    "import sys\n",
    "import math\n",
    "import pandas as pd\n",
    "import numpy as np\n",
    "import pickle\n",
    "from pymongo import MongoClient\n",
    "import matplotlib.pyplot as plt\n",
    "\n",
    "sys.path.append(\"src/main/python\")\n",
    "from load_data import load"
   ]
  },
  {
   "cell_type": "code",
   "execution_count": 4,
   "metadata": {
    "collapsed": false
   },
   "outputs": [
    {
     "name": "stdout",
     "output_type": "stream",
     "text": [
      "100 documents loaded\n",
      "200 documents loaded\n",
      "300 documents loaded\n",
      "400 documents loaded\n",
      "500 documents loaded\n",
      "600 documents loaded\n",
      "700 documents loaded\n",
      "800 documents loaded\n",
      "900 documents loaded\n",
      "1000 documents loaded\n",
      "         lang_prob        lat        likes       long   tags_count  \\\n",
      "count  1000.000000  12.000000  1000.000000  12.000000  1000.000000   \n",
      "mean      0.503226  31.682674    26.444000 -61.536453     0.837000   \n",
      "std       0.475359  16.644834    41.213049  50.178211     3.227204   \n",
      "min       0.000000 -19.949407     0.000000 -86.750245     0.000000   \n",
      "25%       0.000000  34.689383     4.000000 -86.616906     0.000000   \n",
      "50%       0.625950  34.712300    11.000000 -86.596300     0.000000   \n",
      "75%       0.999996  34.731643    26.000000 -75.952292     0.000000   \n",
      "max       1.000000  43.929393   241.000000  42.727673    28.000000   \n",
      "\n",
      "       text_length   tag_length     tt_ratio  \n",
      "count  1000.000000  1000.000000  1000.000000  \n",
      "mean     28.696000     7.211000     0.964825  \n",
      "std      80.568697    28.337493     1.718500  \n",
      "min       0.000000     0.000000     0.001002  \n",
      "25%       0.000000     0.000000     0.058824  \n",
      "50%       4.000000     0.000000     1.000000  \n",
      "75%      24.000000     0.000000     1.000000  \n",
      "max     997.000000   230.000000    17.000000  \n",
      "(1000, 19)\n"
     ]
    },
    {
     "data": {
      "text/html": [
       "<div>\n",
       "<table border=\"1\" class=\"dataframe\">\n",
       "  <thead>\n",
       "    <tr style=\"text-align: right;\">\n",
       "      <th></th>\n",
       "      <th>date</th>\n",
       "      <th>lang</th>\n",
       "      <th>lang_prob</th>\n",
       "      <th>lat</th>\n",
       "      <th>likes</th>\n",
       "      <th>locid</th>\n",
       "      <th>locname</th>\n",
       "      <th>long</th>\n",
       "      <th>mid</th>\n",
       "      <th>tags</th>\n",
       "      <th>tags_count</th>\n",
       "      <th>text</th>\n",
       "      <th>type</th>\n",
       "      <th>uid</th>\n",
       "      <th>url</th>\n",
       "      <th>text_cleaned</th>\n",
       "      <th>text_length</th>\n",
       "      <th>tag_length</th>\n",
       "      <th>tt_ratio</th>\n",
       "    </tr>\n",
       "  </thead>\n",
       "  <tbody>\n",
       "    <tr>\n",
       "      <th>0</th>\n",
       "      <td>2015-10-09 15:18:00</td>\n",
       "      <td>tl</td>\n",
       "      <td>0.999995</td>\n",
       "      <td>NaN</td>\n",
       "      <td>0</td>\n",
       "      <td>None</td>\n",
       "      <td>None</td>\n",
       "      <td>NaN</td>\n",
       "      <td>1092061359292804955_2229281274</td>\n",
       "      <td></td>\n",
       "      <td>0</td>\n",
       "      <td>Dragon Ball</td>\n",
       "      <td>image</td>\n",
       "      <td>2229281274</td>\n",
       "      <td>https://scontent.cdninstagram.com/hphotos-xaf1...</td>\n",
       "      <td>Dragon Ball</td>\n",
       "      <td>11</td>\n",
       "      <td>0</td>\n",
       "      <td>0.083333</td>\n",
       "    </tr>\n",
       "    <tr>\n",
       "      <th>1</th>\n",
       "      <td>2015-10-03 23:05:59</td>\n",
       "      <td>ar</td>\n",
       "      <td>0.999998</td>\n",
       "      <td>NaN</td>\n",
       "      <td>3</td>\n",
       "      <td>None</td>\n",
       "      <td>None</td>\n",
       "      <td>NaN</td>\n",
       "      <td>1087948245658768288_2222155003</td>\n",
       "      <td></td>\n",
       "      <td>0</td>\n",
       "      <td>دعم الحساابب كلكم عندها @Njood0e_506الكل كندها...</td>\n",
       "      <td>image</td>\n",
       "      <td>2222155003</td>\n",
       "      <td>https://scontent.cdninstagram.com/hphotos-xaf1...</td>\n",
       "      <td>دعم الحساابب كلكم عندها @Njood0e_506الكل كندها...</td>\n",
       "      <td>96</td>\n",
       "      <td>0</td>\n",
       "      <td>0.010309</td>\n",
       "    </tr>\n",
       "    <tr>\n",
       "      <th>2</th>\n",
       "      <td>2015-10-01 10:42:47</td>\n",
       "      <td>en</td>\n",
       "      <td>0.999995</td>\n",
       "      <td>NaN</td>\n",
       "      <td>6</td>\n",
       "      <td>None</td>\n",
       "      <td>None</td>\n",
       "      <td>NaN</td>\n",
       "      <td>1086124630688729295_2218635065</td>\n",
       "      <td></td>\n",
       "      <td>0</td>\n",
       "      <td>{ 1-10-15 } \\nhi or hey?</td>\n",
       "      <td>image</td>\n",
       "      <td>2218635065</td>\n",
       "      <td>https://scontent.cdninstagram.com/hphotos-xfa1...</td>\n",
       "      <td>{ 1-10-15 } \\nhi or hey?</td>\n",
       "      <td>23</td>\n",
       "      <td>0</td>\n",
       "      <td>0.041667</td>\n",
       "    </tr>\n",
       "    <tr>\n",
       "      <th>3</th>\n",
       "      <td>2015-08-12 17:52:57</td>\n",
       "      <td>??</td>\n",
       "      <td>0.000000</td>\n",
       "      <td>NaN</td>\n",
       "      <td>11</td>\n",
       "      <td>None</td>\n",
       "      <td>None</td>\n",
       "      <td>NaN</td>\n",
       "      <td>1050102353617662782_2127917987</td>\n",
       "      <td></td>\n",
       "      <td>0</td>\n",
       "      <td>😊</td>\n",
       "      <td>video</td>\n",
       "      <td>2127917987</td>\n",
       "      <td>https://scontent.cdninstagram.com/hphotos-xfa1...</td>\n",
       "      <td>😊</td>\n",
       "      <td>2</td>\n",
       "      <td>0</td>\n",
       "      <td>0.333333</td>\n",
       "    </tr>\n",
       "    <tr>\n",
       "      <th>4</th>\n",
       "      <td>2015-08-14 14:15:14</td>\n",
       "      <td>??</td>\n",
       "      <td>0.000000</td>\n",
       "      <td>NaN</td>\n",
       "      <td>12</td>\n",
       "      <td>None</td>\n",
       "      <td>None</td>\n",
       "      <td>NaN</td>\n",
       "      <td>1051442324355801991_2027900631</td>\n",
       "      <td></td>\n",
       "      <td>0</td>\n",
       "      <td></td>\n",
       "      <td>image</td>\n",
       "      <td>2027900631</td>\n",
       "      <td>https://scontent.cdninstagram.com/hphotos-xaf1...</td>\n",
       "      <td></td>\n",
       "      <td>0</td>\n",
       "      <td>0</td>\n",
       "      <td>1.000000</td>\n",
       "    </tr>\n",
       "  </tbody>\n",
       "</table>\n",
       "</div>"
      ],
      "text/plain": [
       "                 date lang  lang_prob  lat  likes locid locname  long  \\\n",
       "0 2015-10-09 15:18:00   tl   0.999995  NaN      0  None    None   NaN   \n",
       "1 2015-10-03 23:05:59   ar   0.999998  NaN      3  None    None   NaN   \n",
       "2 2015-10-01 10:42:47   en   0.999995  NaN      6  None    None   NaN   \n",
       "3 2015-08-12 17:52:57   ??   0.000000  NaN     11  None    None   NaN   \n",
       "4 2015-08-14 14:15:14   ??   0.000000  NaN     12  None    None   NaN   \n",
       "\n",
       "                              mid tags  tags_count  \\\n",
       "0  1092061359292804955_2229281274                0   \n",
       "1  1087948245658768288_2222155003                0   \n",
       "2  1086124630688729295_2218635065                0   \n",
       "3  1050102353617662782_2127917987                0   \n",
       "4  1051442324355801991_2027900631                0   \n",
       "\n",
       "                                                text   type         uid  \\\n",
       "0                                        Dragon Ball  image  2229281274   \n",
       "1  دعم الحساابب كلكم عندها @Njood0e_506الكل كندها...  image  2222155003   \n",
       "2                           { 1-10-15 } \\nhi or hey?  image  2218635065   \n",
       "3                                                 😊  video  2127917987   \n",
       "4                                                     image  2027900631   \n",
       "\n",
       "                                                 url  \\\n",
       "0  https://scontent.cdninstagram.com/hphotos-xaf1...   \n",
       "1  https://scontent.cdninstagram.com/hphotos-xaf1...   \n",
       "2  https://scontent.cdninstagram.com/hphotos-xfa1...   \n",
       "3  https://scontent.cdninstagram.com/hphotos-xfa1...   \n",
       "4  https://scontent.cdninstagram.com/hphotos-xaf1...   \n",
       "\n",
       "                                        text_cleaned  text_length  tag_length  \\\n",
       "0                                        Dragon Ball           11           0   \n",
       "1  دعم الحساابب كلكم عندها @Njood0e_506الكل كندها...           96           0   \n",
       "2                           { 1-10-15 } \\nhi or hey?           23           0   \n",
       "3                                                 😊            2           0   \n",
       "4                                                               0           0   \n",
       "\n",
       "   tt_ratio  \n",
       "0  0.083333  \n",
       "1  0.010309  \n",
       "2  0.041667  \n",
       "3  0.333333  \n",
       "4  1.000000  "
      ]
     },
     "execution_count": 4,
     "metadata": {},
     "output_type": "execute_result"
    }
   ],
   "source": [
    "df = load(1000)\n",
    "print df.shape\n",
    "df.head()"
   ]
  },
  {
   "cell_type": "code",
   "execution_count": 5,
   "metadata": {
    "collapsed": false
   },
   "outputs": [
    {
     "name": "stdout",
     "output_type": "stream",
     "text": [
      "??    459\n",
      "en    198\n",
      "pt     55\n",
      "fr     46\n",
      "it     29\n",
      "fa     23\n",
      "es     19\n",
      "de     19\n",
      "id     14\n",
      "tl     10\n",
      "dtype: int64\n"
     ]
    },
    {
     "data": {
      "image/png": "[encoded data removed]",
      "text/plain": [
       "<matplotlib.figure.Figure at 0x105ead790>"
      ]
     },
     "metadata": {},
     "output_type": "display_data"
    }
   ],
   "source": [
    "# Language distributions.  Seems like there are alot of unknown\n",
    "cnts = df[\"lang\"].value_counts()\n",
    "print cnts[:10]\n",
    "fig = plt.figure(figsize = (10, 5))\n",
    "# Show language distribution\n",
    "ax = fig.add_subplot(1, 2, 1)\n",
    "ax.bar(range(len(cnts)), cnts)\n",
    "ax.set_title(\"Language distribution\")\n",
    "# Show text length distribution for unknown\n",
    "ax = fig.add_subplot(1, 2, 2)\n",
    "ax.hist(list(df.loc[df[\"lang\"] == \"??\"][\"text_length\"]))\n",
    "ax.set_title(\"Text Length Hist for ??\")\n",
    "plt.show()"
   ]
  },
  {
   "cell_type": "code",
   "execution_count": 6,
   "metadata": {
    "collapsed": false
   },
   "outputs": [
    {
     "name": "stdout",
     "output_type": "stream",
     "text": [
      "(6910, 4)\n",
      "            Airport City  Lat  Long\n",
      "KABI        ABILENE  USA   32   -99\n",
      "KABQ    ALBUQUERQUE  USA    0     0\n",
      "KACK      NANTUCKET  USA   41   -70\n",
      "KACT           WACO  USA   31   -97\n",
      "KACY  ATLANTIC CITY  USA   39   -74\n",
      "(1000, 23)\n"
     ]
    }
   ],
   "source": [
    "airports_df = pd.read_csv(\"src/main/resources/airports.dat\", sep=\":\")\n",
    "airports_df = airports_df.loc[airports_df['LongDir'] == 'U']\n",
    "airports_df.loc[airports_df['LongDir'] == 'U', 'Long'] = -airports_df['Long']\n",
    "airports_df.loc[airports_df['LatDir'] == 'S', 'Lat'] = -airports_df['Lat']\n",
    "airports_df = airports_df.loc[:, [\"Airport\", \"City\", \"Lat\", \"Long\"]]\n",
    "print airports_df.shape\n",
    "print airports_df.loc[airports_df['City'] == 'USA'].head()\n",
    "\n",
    "def closest_airport(r):\n",
    "    res = pd.Series()\n",
    "    if pd.notnull(r['lat']) and pd.notnull(r['long']):\n",
    "        x = pd.Series([ math.sqrt((r['lat']-x['Lat'])**2 + (r['long']-x['Long'])**2) for i,x in airports_df.iterrows() ])\n",
    "        res = airports_df.iloc[x.idxmin(), :]\n",
    "    return res\n",
    "\n",
    "# We define a city to be a place that has an airport, so do some additional work to attach a location to\n",
    "# the nearest airport\n",
    "df[[\"airport\", \"city\", \"city_lat\", \"city_long\"]] = df.apply(closest_airport, axis=1)\n",
    "print df.shape"
   ]
  },
  {
   "cell_type": "code",
   "execution_count": 7,
   "metadata": {
    "collapsed": false
   },
   "outputs": [
    {
     "name": "stdout",
     "output_type": "stream",
     "text": [
      "REDSTONE    9\n",
      "BORDEAUX    2\n",
      "VARGINHA    1\n",
      "dtype: int64\n",
      "USA       9\n",
      "FRANCE    2\n",
      "BRAZIL    1\n",
      "dtype: int64\n"
     ]
    }
   ],
   "source": [
    "# What are the top cities/airports?\n",
    "print df['airport'].value_counts().head()\n",
    "print df['city'].value_counts().head()"
   ]
  },
  {
   "cell_type": "code",
   "execution_count": 44,
   "metadata": {
    "collapsed": false
   },
   "outputs": [
    {
     "data": {
      "text/html": [
       "<div>\n",
       "<table border=\"1\" class=\"dataframe\">\n",
       "  <thead>\n",
       "    <tr style=\"text-align: right;\">\n",
       "      <th></th>\n",
       "      <th>bow</th>\n",
       "      <th>airport</th>\n",
       "    </tr>\n",
       "  </thead>\n",
       "  <tbody>\n",
       "    <tr>\n",
       "      <th>2</th>\n",
       "      <td>{ 1-10-15 } \\nhi or hey?</td>\n",
       "      <td>NaN</td>\n",
       "    </tr>\n",
       "    <tr>\n",
       "      <th>3</th>\n",
       "      <td>😊</td>\n",
       "      <td>NaN</td>\n",
       "    </tr>\n",
       "    <tr>\n",
       "      <th>20</th>\n",
       "      <td>She 's Name is Kitty</td>\n",
       "      <td>NaN</td>\n",
       "    </tr>\n",
       "    <tr>\n",
       "      <th>30</th>\n",
       "      <td>89 :) :*</td>\n",
       "      <td>NaN</td>\n",
       "    </tr>\n",
       "    <tr>\n",
       "      <th>49</th>\n",
       "      <td>Enjoy the little things n.n</td>\n",
       "      <td>NaN</td>\n",
       "    </tr>\n",
       "  </tbody>\n",
       "</table>\n",
       "</div>"
      ],
      "text/plain": [
       "                             bow airport\n",
       "2      { 1-10-15 } \\nhi or hey?      NaN\n",
       "3                            😊      NaN\n",
       "20         She 's Name is Kitty      NaN\n",
       "30                     89 :) :*      NaN\n",
       "49  Enjoy the little things n.n      NaN"
      ]
     },
     "execution_count": 44,
     "metadata": {},
     "output_type": "execute_result"
    }
   ],
   "source": [
    "# Create our bag of words\n",
    "df['tags_cleaned'] = [ ' '.join([ 'tag:'+y for y in x.split(' ') if len(x.strip()) > 0 ]) for x in df['tags'] ]\n",
    "df['bow'] = [ x['text_cleaned'] + ' ' + x['tags_cleaned'] for i,x in df.iterrows() ]\n",
    "\n",
    "# Let's play with only english language captions for now\n",
    "en_df = df.loc[(df[\"lang\"] == \"en\") | (df[\"lang\"] == \"??\")]\n",
    "en_df.loc[[ len(x.strip()) > 0 for x in en_df['bow']], [\"bow\", \"airport\"]].head()"
   ]
  },
  {
   "cell_type": "code",
   "execution_count": 91,
   "metadata": {
    "collapsed": false
   },
   "outputs": [
    {
     "name": "stdout",
     "output_type": "stream",
     "text": [
      "(43, 2551)\n",
      "                                                  bow loc         uid\n",
      "1          My style and my attiude  My simple look         1823872551\n",
      "3   Here comes our varsity DRAGONS !! With the mid...      1660958829\n",
      "4       Bored at work    I'm so pretty!  tag:fabulous      2205118417\n",
      "11  me and my bestie  worked really hard  worked r...      2202917742\n",
      "12                              😍😍😍😍😊😊😉😉           2182359014\n"
     ]
    },
    {
     "data": {
      "image/png": "[encoded data removed]",
      "text/plain": [
       "<matplotlib.figure.Figure at 0x1072a9a10>"
      ]
     },
     "metadata": {},
     "output_type": "display_data"
    },
    {
     "name": "stdout",
     "output_type": "stream",
     "text": [
      "(43, 3)\n",
      "--------------------------------------------------------------------------------\n",
      "-- Cluster 1: N=33.000000\n",
      "                                                  bow loc         uid  cluster\n",
      "1          My style and my attiude  My simple look         1823872551        1\n",
      "3   Here comes our varsity DRAGONS !! With the mid...      1660958829        1\n",
      "4       Bored at work    I'm so pretty!  tag:fabulous      2205118417        1\n",
      "11  me and my bestie  worked really hard  worked r...      2202917742        1\n",
      "12                              😍😍😍😍😊😊😉😉           2182359014        1\n",
      "13                                        Was bored☺       2227457155        1\n",
      "15  Me and it's only October  officially my birthd...      1929459781        1\n",
      "16                        89 :) :*                         1623416146        1\n",
      "19                                               👊✌       2226479332        1\n",
      "20      Desperates Houswives juste trop ma vie @ro...      1911740888        1\n",
      "-- Cluster Record:{'locations': {'REDSTONE': 9}, 'cid': 1}\n",
      "\n",
      "-- Cluster 3: N=7.000000\n",
      "                                                  bow loc         uid  cluster\n",
      "14  This cracked me up!  Tried out the  flawless f...      2229931471        3\n",
      "17  🌸                            tag:follow4follo...      1509057220        3\n",
      "25  ☾☼☽\\nI legit have been sleeping all day becaus...       966252577        3\n",
      "40  Suited and booted 🎩  Few cold beers with @mil...       257041113        3\n",
      "53        😻    tag:vscocam tag:sweet16 tag:bday 3...       357124900        3\n",
      "59   #HarbourCastle  tag:viewfromthesuite tag:harb...       182460776        3\n",
      "81    tag:friends tag:party #Tb Carnaval met  tag:...      1476105164        3\n",
      "-- Cluster Record:{'locations': {}, 'cid': 3}\n",
      "\n",
      "-- Cluster 4: N=1.000000\n",
      "                                                  bow loc         uid  cluster\n",
      "30  Literally School sucks 😷😷  Imma keep on lovi...      1409631727        4\n",
      "-- Cluster Record:{'locations': {}, 'cid': 4}\n",
      "\n",
      "-- Cluster 2: N=1.000000\n",
      "                bow loc         uid  cluster\n",
      "42  My foot tattoo       2222337656        2\n",
      "-- Cluster Record:{'locations': {}, 'cid': 2}\n",
      "\n",
      "-- Cluster 0: N=1.000000\n",
      "                             bow loc         uid  cluster\n",
      "48  Welcome,my favourite season       2228855503        0\n",
      "-- Cluster Record:{'locations': {}, 'cid': 0}\n",
      "\n"
     ]
    }
   ],
   "source": [
    "from sklearn.feature_extraction.text import TfidfVectorizer\n",
    "from sklearn.cluster import KMeans\n",
    "\n",
    "data = { 'uid': [], 'bow': [], 'loc': [] }\n",
    "for k,vs in en_df.groupby('uid').groups.iteritems():\n",
    "    data['uid'].append(k)\n",
    "    locs = [ '%s:%d' % (k,v) for k,v in dict(en_df.loc[vs]['airport'].value_counts()).items() ]\n",
    "    data['loc'].append(' '.join(locs))\n",
    "    data['bow'].append(' '.join(en_df.loc[vs]['bow']))\n",
    "\n",
    "df = pd.DataFrame(data)\n",
    "df = df.loc[[ len(x.strip()) > 0 for x in df['bow'] ]]\n",
    "\n",
    "tfidf = TfidfVectorizer(stop_words='english', norm='l2', ngram_range=[1,2])\n",
    "Y = tfidf.fit_transform(df['bow'])\n",
    "\n",
    "print Y.shape\n",
    "print df.head()\n",
    "\n",
    "km = KMeans(5)\n",
    "Y_clusters = km.fit_predict(Y)\n",
    "plt.bar(range(5), pd.Series(Y_clusters).value_counts())\n",
    "plt.title(\"Cluster distribution\")\n",
    "plt.show()\n",
    "\n",
    "print df.shape\n",
    "df['cluster'] = Y_clusters\n",
    "\n",
    "Y_loc = []\n",
    "# Accumulate all of the locations for each cluster\n",
    "for cid in pd.unique(df['cluster']):\n",
    "    locations = {}\n",
    "    line = ' '.join(df.loc[df['cluster'] == cid]['loc'])\n",
    "    for z in [ x.strip() for x in line.split(' ') if len(x.strip()) > 0 ]:\n",
    "        k,v = z.split(':')\n",
    "        if k not in locations:\n",
    "            locations[k] = 0\n",
    "        locations[k] = locations[k] + int(v)\n",
    "    Y_loc.append({ 'cid': cid, 'locations': locations })\n",
    "    \n",
    "print '-' * 80\n",
    "for i,cid in enumerate(pd.unique(df['cluster'])):\n",
    "    print \"-- Cluster %d: N=%f\" % (int(cid), df.loc[df['cluster'] == cid].shape[0])\n",
    "    print df.loc[df['cluster'] == cid][:10]\n",
    "    print \"-- Cluster Record: \" + str(Y_loc[i])\n",
    "    print"
   ]
  },
  {
   "cell_type": "code",
   "execution_count": 96,
   "metadata": {
    "collapsed": false
   },
   "outputs": [
    {
     "name": "stdout",
     "output_type": "stream",
     "text": [
      "Saved location records\n",
      "Saved tfidf and km models\n"
     ]
    }
   ],
   "source": [
    "# Save off everything\n",
    "\n",
    "host = \"localhost\"\n",
    "port = 27017\n",
    "db = \"instagram\"\n",
    "coll = \"text\"\n",
    "\n",
    "client = MongoClient(host, port)\n",
    "mongo = client[db][coll]\n",
    "\n",
    "for r in Y_loc:\n",
    "    mongo.update_one({ '_id': r['cid'] }, { '$set': r }, upsert = True)\n",
    "print \"Saved location records\"\n",
    "    \n",
    "tfidf_path = \"tfidf.pickle\"\n",
    "km_path = \"km.pickle\"\n",
    "with open(tfidf_path, 'w') as f_tfidf, open(km_path, 'w') as f_km:\n",
    "    pickle.dump(tfidf, f_tfidf)\n",
    "    pickle.dump(km, f_km)\n",
    "    print \"Saved tfidf and km models\"\n",
    "    \n"
   ]
  }
 ],
 "metadata": {
  "kernelspec": {
   "display_name": "Python 2",
   "language": "python",
   "name": "python2"
  },
  "language_info": {
   "codemirror_mode": {
    "name": "ipython",
    "version": 2
   },
   "file_extension": ".py",
   "mimetype": "text/x-python",
   "name": "python",
   "nbconvert_exporter": "python",
   "pygments_lexer": "ipython2",
   "version": "2.7.8"
  }
 },
 "nbformat": 4,
 "nbformat_minor": 0
}
