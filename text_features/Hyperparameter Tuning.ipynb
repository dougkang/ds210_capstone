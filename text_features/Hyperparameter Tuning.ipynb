{
 "cells": [
  {
   "cell_type": "code",
   "execution_count": 2,
   "metadata": {
    "collapsed": false
   },
   "outputs": [
    {
     "name": "stdout",
     "output_type": "stream",
     "text": [
      "The autoreload extension is already loaded. To reload it, use:\n",
      "  %reload_ext autoreload\n"
     ]
    }
   ],
   "source": [
    "%matplotlib inline\n",
    "%load_ext autoreload\n",
    "%autoreload 2"
   ]
  },
  {
   "cell_type": "code",
   "execution_count": 3,
   "metadata": {
    "collapsed": true
   },
   "outputs": [],
   "source": [
    "import sys\n",
    "import math\n",
    "import pandas as pd\n",
    "import numpy as np\n",
    "import pickle\n",
    "import seaborn as sbn\n",
    "from pymongo import MongoClient\n",
    "import matplotlib.pyplot as plt\n",
    "\n",
    "sys.path.append(\"src/main/python\")"
   ]
  },
  {
   "cell_type": "code",
   "execution_count": 4,
   "metadata": {
    "collapsed": false
   },
   "outputs": [],
   "source": [
    "import trainer\n",
    "import train_tfidf\n",
    "import train_pmodel\n",
    "import train_lmodel"
   ]
  },
  {
   "cell_type": "code",
   "execution_count": 14,
   "metadata": {
    "collapsed": false
   },
   "outputs": [
    {
     "name": "stdout",
     "output_type": "stream",
     "text": [
      "[trainer] loading existing data at dataset.csv\n",
      "(398120, 24)\n",
      "(300000, 24)\n",
      "(7353, 24)\n"
     ]
    }
   ],
   "source": [
    "# Load our dataset, split the dataset into train and test\n",
    "# Then save it off into training and test sets\n",
    "\n",
    "dataset_path = \"dataset.csv\"\n",
    "train_path = \"train.csv\"\n",
    "test_path = \"test.csv\"\n",
    "force_refresh = False\n",
    "\n",
    "# Roughly 80/20 split\n",
    "train_size = 300000\n",
    "\n",
    "df = trainer.load(dataset_path, force_refresh)\n",
    "shuf = np.random.random_integers(df.shape[0], size=df.shape[0])\n",
    "print df.shape\n",
    "\n",
    "train = df.iloc[shuf[:train_size]]\n",
    "print train.shape\n",
    "train.to_csv(train_path, encoding='utf-8')\n",
    "\n",
    "test = df.iloc[shuf[train_size:]]\n",
    "test = test.loc[pd.notnull(test['airport'])]\n",
    "print test.shape\n",
    "test.to_csv(test_path, encoding='utf-8')"
   ]
  },
  {
   "cell_type": "code",
   "execution_count": 32,
   "metadata": {
    "collapsed": false
   },
   "outputs": [
    {
     "name": "stdout",
     "output_type": "stream",
     "text": [
      "[trainer] loading existing data at train.csv\n",
      "Post BOW Dataset: (22546, 127847), (22546,)"
     ]
    },
    {
     "name": "stderr",
     "output_type": "stream",
     "text": [
      "Training {'k': 5, 'weights': 'uniform'}\n",
      "Found 2352 unique locations"
     ]
    },
    {
     "name": "stdout",
     "output_type": "stream",
     "text": [
      "\n",
      "{'f1': 0.0009066594133913595, 'recall': 0.0027199782401740786, 'n_pred': 7353, 'precision': 0.0005439956480348157, 'coverage': 5.0, 'n_truth': 7353}\n",
      "Saved probability model"
     ]
    },
    {
     "name": "stderr",
     "output_type": "stream",
     "text": [
      "\n",
      "Found test set, computing precision, recall\n",
      "Test shape: ((7353, 127847), (7353,))\n",
      "Training {'k': 5, 'weights': 'distance'}"
     ]
    },
    {
     "name": "stdout",
     "output_type": "stream",
     "text": [
      "\n",
      "[trainer] loading existing data at train.csv\n",
      "Post BOW Dataset: (22546, 127847), (22546,)"
     ]
    },
    {
     "name": "stderr",
     "output_type": "stream",
     "text": [
      "\n",
      "Found 2352 unique locations"
     ]
    },
    {
     "name": "stdout",
     "output_type": "stream",
     "text": [
      "\n",
      "{'f1': 0.001813318826782719, 'recall': 0.005439956480348157, 'n_pred': 7353, 'precision': 0.0010879912960696314, 'coverage': 5.0, 'n_truth': 7353}\n",
      "Saved probability model\n",
      "                                  cfg        f1  precision   recall\n",
      "0   {u'k': 5, u'weights': u'uniform'}  0.000907   0.000544  0.00272\n",
      "1  {u'k': 5, u'weights': u'distance'}  0.001813   0.001088  0.00544\n"
     ]
    },
    {
     "name": "stderr",
     "output_type": "stream",
     "text": [
      "\n",
      "Found test set, computing precision, recall\n",
      "Test shape: ((7353, 127847), (7353,))\n"
     ]
    },
    {
     "data": {
      "text/plain": [
       "([<matplotlib.axis.XTick at 0x119b5d510>,\n",
       "  <matplotlib.axis.XTick at 0x11a34ae50>],\n",
       " <a list of 2 Text xticklabel objects>)"
      ]
     },
     "execution_count": 32,
     "metadata": {},
     "output_type": "execute_result"
    },
    {
     "data": {
      "image/png": "[encoded data removed]",
      "text/plain": [
       "<matplotlib.figure.Figure at 0x1478c3e10>"
      ]
     },
     "metadata": {},
     "output_type": "display_data"
    }
   ],
   "source": [
    "# Load the dataset\n",
    "import trainer\n",
    "import train_tfidf\n",
    "import train_pmodel\n",
    "import train_lmodel\n",
    "\n",
    "# Define the extractor function we want to use\n",
    "# and the recommendation model that we want to train\n",
    "ex = train_tfidf.post_tfidf\n",
    "rm = train_pmodel.post_knn\n",
    "model_template_path = \"train_model_%d.pickle\"\n",
    "\n",
    "# Put your configs you want to try here\n",
    "cfgs = [\n",
    "    { 'k': 5, 'weights': 'uniform' },\n",
    "    { 'k': 5, 'weights': 'distance' }\n",
    "]\n",
    "res = { 'cfg': [], 'precision': [], 'recall': [], 'f1': [] }\n",
    "\n",
    "# For each config, train a model\n",
    "for i,cfg in enumerate(cfgs):\n",
    "    print >> sys.stderr, \"Training %s\" % cfg\n",
    "    tr = trainer.Trainer(ex, rm)\n",
    "    m, metrics = tr.run(model_template_path % i, train_path, df_test = test, **cfg)\n",
    "    res['cfg'].append(cfg)\n",
    "    res['precision'].append(metrics['precision'])\n",
    "    res['recall'].append(metrics['recall'])\n",
    "    res['f1'].append(metrics['f1'])\n",
    "    \n",
    "res = pd.DataFrame(res)   \n",
    "print res\n",
    "\n",
    "plt.figure(figsize=(20, 10))\n",
    "plt.subplot(1, 3, 1)\n",
    "plt.bar(range(res.shape[0]), res['precision'])\n",
    "plt.title('Precision')\n",
    "plt.xlabel('Job #')\n",
    "plt.xticks(range(res.shape[0]))\n",
    "\n",
    "plt.subplot(1, 3, 2)\n",
    "plt.bar(range(res.shape[0]), res['recall'])\n",
    "plt.title('Recall')\n",
    "plt.xlabel('Job #')\n",
    "plt.xticks(range(res.shape[0]))\n",
    "\n",
    "plt.subplot(1, 3, 3)\n",
    "plt.bar(range(res.shape[0]), res['f1'])\n",
    "plt.title('F1')\n",
    "plt.xlabel('Job #')\n",
    "plt.xticks(range(res.shape[0]))\n",
    "\n",
    "plt.show()"
   ]
  }
 ],
 "metadata": {
  "kernelspec": {
   "display_name": "Python 2",
   "language": "python",
   "name": "python2"
  },
  "language_info": {
   "codemirror_mode": {
    "name": "ipython",
    "version": 2
   },
   "file_extension": ".py",
   "mimetype": "text/x-python",
   "name": "python",
   "nbconvert_exporter": "python",
   "pygments_lexer": "ipython2",
   "version": "2.7.8"
  }
 },
 "nbformat": 4,
 "nbformat_minor": 0
}
