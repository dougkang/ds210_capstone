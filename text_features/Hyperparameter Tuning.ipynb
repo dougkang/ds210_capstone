{
 "cells": [
  {
   "cell_type": "code",
   "execution_count": 1,
   "metadata": {
    "collapsed": false
   },
   "outputs": [],
   "source": [
    "%matplotlib inline\n",
    "%load_ext autoreload\n",
    "%autoreload 2"
   ]
  },
  {
   "cell_type": "code",
   "execution_count": 4,
   "metadata": {
    "collapsed": false
   },
   "outputs": [],
   "source": [
    "import sys\n",
    "import math\n",
    "import pandas as pd\n",
    "import numpy as np\n",
    "import pickle\n",
    "import seaborn as sbn\n",
    "from pymongo import MongoClient\n",
    "import matplotlib.pyplot as plt\n",
    "\n",
    "sys.path.append(\"src/main/python\")"
   ]
  },
  {
   "cell_type": "code",
   "execution_count": 7,
   "metadata": {
    "collapsed": false
   },
   "outputs": [],
   "source": [
    "import trainer\n",
    "import train_tfidf\n",
    "import train_pmodel\n",
    "import train_lmodel"
   ]
  },
  {
   "cell_type": "code",
   "execution_count": 8,
   "metadata": {
    "collapsed": false
   },
   "outputs": [
    {
     "name": "stdout",
     "output_type": "stream",
     "text": [
      "[trainer] loading existing data at dataset.csv\n",
      "(398120, 24)\n",
      "(300000, 24)\n",
      "(7426, 24)\n"
     ]
    }
   ],
   "source": [
    "# Load our dataset, split the dataset into train and test\n",
    "# Then save it off into training and test sets\n",
    "\n",
    "dataset_path = \"dataset.csv\"\n",
    "train_path = \"train.csv\"\n",
    "test_path = \"test.csv\"\n",
    "force_refresh = False\n",
    "\n",
    "# Roughly 80/20 split\n",
    "train_size = 300000\n",
    "\n",
    "df = trainer.load(dataset_path, force_refresh)\n",
    "shuf = np.random.random_integers(df.shape[0], size=df.shape[0])\n",
    "print df.shape\n",
    "\n",
    "train = df.iloc[shuf[:train_size]]\n",
    "print train.shape\n",
    "train.to_csv(train_path, encoding='utf-8')\n",
    "\n",
    "test = df.iloc[shuf[train_size:]]\n",
    "test = test.loc[pd.notnull(test['airport'])]\n",
    "print test.shape\n",
    "test.to_csv(test_path, encoding='utf-8')"
   ]
  },
  {
   "cell_type": "code",
   "execution_count": null,
   "metadata": {
    "collapsed": false
   },
   "outputs": [
    {
     "name": "stdout",
     "output_type": "stream",
     "text": [
      "[trainer] loading existing data at train.csv\n",
      "Post BOW Dataset: (22252, 126079), (22252,)"
     ]
    }
   ],
   "source": [
    "# Load the dataset\n",
    "import trainer\n",
    "import train_tfidf\n",
    "import train_img\n",
    "import train_pmodel\n",
    "import train_lmodel\n",
    "\n",
    "cache_collection = 'object_cache'\n",
    "\n",
    "host = 'alfred.local'\n",
    "port = 27017\n",
    "db = 'instagram'\n",
    "client = MongoClient(host, port)\n",
    "cache = client[db][cache_collection]\n",
    "\n",
    "# Define the extractor function we want to use\n",
    "# and the recommendation model that we want to train\n",
    "ex = train_tfidf.user_img\n",
    "rm = train_lmodel.post_knn\n",
    "model_template_path = \"models/train_knnmodel_%d.pickle\"\n",
    "\n",
    "# Put your configs you want to try here\n",
    "cfgs = [\n",
    "    { 'k': 5, 'weights': 'uniform' },\n",
    "    { 'k': 5, 'weights': 'distance' },\n",
    "    { 'k': 7, 'weights': 'uniform' },\n",
    "    { 'k': 7, 'weights': 'distance' },\n",
    "    { 'k': 9, 'weights': 'uniform' },\n",
    "    { 'k': 9, 'weights': 'distance' },\n",
    "    { 'k': 11, 'weights': 'uniform' },\n",
    "    { 'k': 11, 'weights': 'distance' },\n",
    "    { 'k': 13, 'weights': 'uniform' },\n",
    "    { 'k': 13, 'weights': 'distance' },\n",
    "    { 'k': 15, 'weights': 'uniform' },\n",
    "    { 'k': 15, 'weights': 'distance' },\n",
    "    { 'k': 17, 'weights': 'uniform' },\n",
    "    { 'k': 17, 'weights': 'distance' },\n",
    "    { 'k': 19, 'weights': 'uniform' },\n",
    "    { 'k': 19, 'weights': 'distance' },\n",
    "    { 'k': 21, 'weights': 'uniform' },\n",
    "    { 'k': 21, 'weights': 'distance' },\n",
    "    { 'k': 23, 'weights': 'uniform' },\n",
    "    { 'k': 23, 'weights': 'distance' },\n",
    "    { 'k': 25, 'weights': 'uniform' },\n",
    "    { 'k': 25, 'weights': 'distance' },\n",
    "]\n",
    "res = { 'cfg': [], 'precision': [], 'recall': [], 'f1': [] }\n",
    "\n",
    "# For each config, train a model\n",
    "for i,cfg in enumerate(cfgs):\n",
    "    print >> sys.stderr, \"Training %s\" % cfg\n",
    "    tr = trainer.Trainer(ex, rm, cache)\n",
    "    m, metrics = tr.run(model_template_path % i, train_path, df_test = test, **cfg)\n",
    "    res['cfg'].append(cfg)\n",
    "    res['precision'].append(metrics['precision'])\n",
    "    res['recall'].append(metrics['recall'])\n",
    "    res['f1'].append(metrics['f1'])\n",
    "    \n",
    "res = pd.DataFrame(res)   \n",
    "print res\n",
    "\n",
    "plt.figure(figsize=(20, 10))\n",
    "plt.subplot(1, 3, 1)\n",
    "plt.bar(range(res.shape[0]), res['precision'])\n",
    "plt.title('Precision')\n",
    "plt.xlabel('Job #')\n",
    "plt.xticks(range(res.shape[0]))\n",
    "\n",
    "plt.subplot(1, 3, 2)\n",
    "plt.bar(range(res.shape[0]), res['recall'])\n",
    "plt.title('Recall')\n",
    "plt.xlabel('Job #')\n",
    "plt.xticks(range(res.shape[0]))\n",
    "\n",
    "plt.subplot(1, 3, 3)\n",
    "plt.bar(range(res.shape[0]), res['f1'])\n",
    "plt.title('F1')\n",
    "plt.xlabel('Job #')\n",
    "plt.xticks(range(res.shape[0]))\n",
    "\n",
    "plt.show()"
   ]
  },
  {
   "cell_type": "code",
   "execution_count": null,
   "metadata": {
    "collapsed": true
   },
   "outputs": [],
   "source": []
  }
 ],
 "metadata": {
  "kernelspec": {
   "display_name": "Python 2",
   "language": "python",
   "name": "python2"
  },
  "language_info": {
   "codemirror_mode": {
    "name": "ipython",
    "version": 2
   },
   "file_extension": ".py",
   "mimetype": "text/x-python",
   "name": "python",
   "nbconvert_exporter": "python",
   "pygments_lexer": "ipython2",
   "version": "2.7.8"
  }
 },
 "nbformat": 4,
 "nbformat_minor": 0
}
