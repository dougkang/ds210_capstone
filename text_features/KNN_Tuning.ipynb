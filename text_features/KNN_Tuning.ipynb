{
 "metadata": {
  "kernelspec": {
   "display_name": "Python 2",
   "language": "python",
   "name": "python2"
  },
  "language_info": {
   "codemirror_mode": {
    "name": "ipython",
    "version": 2
   },
   "file_extension": ".py",
   "mimetype": "text/x-python",
   "name": "python",
   "nbconvert_exporter": "python",
   "pygments_lexer": "ipython2",
   "version": "2.7.8"
  },
  "name": "",
  "signature": "sha256:6902018d55115f51979c1f42e9fdfa62ae35b9a77bd082e8f0a8d878c68ead8c"
 },
 "nbformat": 3,
 "nbformat_minor": 0,
 "worksheets": [
  {
   "cells": [
    {
     "cell_type": "code",
     "collapsed": false,
     "input": [
      "%matplotlib inline\n",
      "%load_ext autoreload\n",
      "%autoreload 2"
     ],
     "language": "python",
     "metadata": {},
     "outputs": [],
     "prompt_number": 1
    },
    {
     "cell_type": "code",
     "collapsed": true,
     "input": [
      "import sys\n",
      "import math\n",
      "import pandas as pd\n",
      "import numpy as np\n",
      "import pickle\n",
      "import seaborn as sbn\n",
      "from pymongo import MongoClient\n",
      "import matplotlib.pyplot as plt\n",
      "\n",
      "sys.path.append(\"src/main/python\")"
     ],
     "language": "python",
     "metadata": {},
     "outputs": [],
     "prompt_number": 2
    },
    {
     "cell_type": "code",
     "collapsed": false,
     "input": [
      "import trainer\n",
      "import train_tfidf\n",
      "import train_pmodel\n",
      "import train_lmodel"
     ],
     "language": "python",
     "metadata": {},
     "outputs": [],
     "prompt_number": 3
    },
    {
     "cell_type": "code",
     "collapsed": false,
     "input": [
      "# Load our dataset, split the dataset into train and test\n",
      "# Then save it off into training and test sets\n",
      "\n",
      "dataset_path = \"dataset.csv\"\n",
      "train_path = \"train.csv\"\n",
      "test_path = \"test.csv\"\n",
      "force_refresh = False\n",
      "\n",
      "# Roughly 80/20 split\n",
      "train_size = 300000\n",
      "\n",
      "#df = trainer.load(\"dataset.csv\", force_refresh)\n",
      "df = trainer.load(dataset_path, force_refresh)\n",
      "shuf = np.random.random_integers(df.shape[0], size=df.shape[0])\n",
      "print df.shape\n",
      "\n",
      "train = df.iloc[shuf[:train_size]]\n",
      "print train.shape\n",
      "train.to_csv(train_path, encoding='utf-8')\n",
      "\n",
      "test = df.iloc[shuf[train_size:]]\n",
      "test = test.loc[pd.notnull(test['airport'])]\n",
      "print test.shape\n",
      "test.to_csv(test_path, encoding='utf-8')"
     ],
     "language": "python",
     "metadata": {},
     "outputs": [
      {
       "output_type": "stream",
       "stream": "stdout",
       "text": [
        "[trainer] loading existing data at dataset.csv\n",
        "(398120, 24)"
       ]
      },
      {
       "output_type": "stream",
       "stream": "stdout",
       "text": [
        "\n",
        "(300000, 24)"
       ]
      },
      {
       "output_type": "stream",
       "stream": "stdout",
       "text": [
        "\n",
        "(7316, 24)"
       ]
      },
      {
       "output_type": "stream",
       "stream": "stdout",
       "text": [
        "\n"
       ]
      }
     ],
     "prompt_number": 4
    },
    {
     "cell_type": "code",
     "collapsed": false,
     "input": [
      "# Load the dataset\n",
      "import trainer\n",
      "import train_tfidf\n",
      "import train_pmodel\n",
      "import train_lmodel\n",
      "\n",
      "# Define the extractor function we want to use\n",
      "# and the recommendation model that we want to train\n",
      "ex = train_tfidf.post_tfidf\n",
      "rm = train_pmodel.post_knn\n",
      "model_template_path = \"models/train_knnmodel_%d.pickle\"\n",
      "\n",
      "# Put your configs you want to try here\n",
      "cfgs = [\n",
      "    { 'k': 5, 'weights': 'uniform' },\n",
      "    { 'k': 5, 'weights': 'distance' },\n",
      "    { 'k': 7, 'weights': 'uniform' },\n",
      "    { 'k': 7, 'weights': 'distance' },\n",
      "    { 'k': 9, 'weights': 'uniform' },\n",
      "    { 'k': 9, 'weights': 'distance' },\n",
      "    { 'k': 11, 'weights': 'uniform' },\n",
      "    { 'k': 11, 'weights': 'distance' },\n",
      "    { 'k': 13, 'weights': 'uniform' },\n",
      "    { 'k': 13, 'weights': 'distance' },\n",
      "    { 'k': 15, 'weights': 'uniform' },\n",
      "    { 'k': 15, 'weights': 'distance' },\n",
      "    { 'k': 17, 'weights': 'uniform' },\n",
      "    { 'k': 17, 'weights': 'distance' },\n",
      "    { 'k': 19, 'weights': 'uniform' },\n",
      "    { 'k': 19, 'weights': 'distance' },\n",
      "    { 'k': 21, 'weights': 'uniform' },\n",
      "    { 'k': 21, 'weights': 'distance' },\n",
      "    { 'k': 23, 'weights': 'uniform' },\n",
      "    { 'k': 23, 'weights': 'distance' },\n",
      "    { 'k': 25, 'weights': 'uniform' },\n",
      "    { 'k': 25, 'weights': 'distance' },\n",
      "]\n",
      "res = { 'cfg': [], 'precision': [], 'recall': [], 'f1': [] }\n",
      "\n",
      "# For each config, train a model\n",
      "for i,cfg in enumerate(cfgs):\n",
      "    print >> sys.stderr, \"Training %s\" % cfg\n",
      "    tr = trainer.Trainer(ex, rm)\n",
      "    m, metrics = tr.run(model_template_path % i, train_path, df_test = test, **cfg)\n",
      "    res['cfg'].append(cfg)\n",
      "    res['precision'].append(metrics['precision'])\n",
      "    res['recall'].append(metrics['recall'])\n",
      "    res['f1'].append(metrics['f1'])\n",
      "    \n",
      "res = pd.DataFrame(res)   \n",
      "print res\n",
      "\n",
      "plt.figure(figsize=(20, 10))\n",
      "plt.subplot(1, 3, 1)\n",
      "plt.bar(range(res.shape[0]), res['precision'])\n",
      "plt.title('Precision')\n",
      "plt.xlabel('Job #')\n",
      "plt.xticks(range(res.shape[0]))\n",
      "\n",
      "plt.subplot(1, 3, 2)\n",
      "plt.bar(range(res.shape[0]), res['recall'])\n",
      "plt.title('Recall')\n",
      "plt.xlabel('Job #')\n",
      "plt.xticks(range(res.shape[0]))\n",
      "\n",
      "plt.subplot(1, 3, 3)\n",
      "plt.bar(range(res.shape[0]), res['f1'])\n",
      "plt.title('F1')\n",
      "plt.xlabel('Job #')\n",
      "plt.xticks(range(res.shape[0]))\n",
      "\n",
      "plt.show()"
     ],
     "language": "python",
     "metadata": {},
     "outputs": [
      {
       "output_type": "stream",
       "stream": "stdout",
       "text": [
        "[trainer] loading existing data at train.csv\n",
        "Post BOW Dataset: (22316, 125799), (22316,)"
       ]
      },
      {
       "output_type": "stream",
       "stream": "stderr",
       "text": [
        "Training {'k': 5, 'weights': 'uniform'}\n",
        "Arguments {'k': 5, 'weights': 'uniform'}\n",
        "Arguments {'k': 5, 'weights': 'uniform'}"
       ]
      },
      {
       "output_type": "stream",
       "stream": "stdout",
       "text": [
        "\n",
        "{'f1': 0.00027337342810278845, 'recall': 0.0008201202843083652, 'n_pred': 7316, 'precision': 0.00016402405686167306, 'coverage': 5.0, 'n_truth': 7316}"
       ]
      },
      {
       "output_type": "stream",
       "stream": "stdout",
       "text": [
        "\n",
        "Saved probability model"
       ]
      },
      {
       "output_type": "stream",
       "stream": "stderr",
       "text": [
        "\n",
        "Found 2364 unique locations\n",
        "Found test set, computing precision, recall\n",
        "Test shape: ((7316, 125799), (7316,))\n",
        "error in train <cluster.PModel object at 0x132821ad0>"
       ]
      },
      {
       "output_type": "stream",
       "stream": "stderr",
       "text": [
        "\n",
        "Training {'k': 5, 'weights': 'distance'}"
       ]
      },
      {
       "output_type": "stream",
       "stream": "stdout",
       "text": [
        "\n",
        "[trainer] loading existing data at train.csv"
       ]
      },
      {
       "output_type": "stream",
       "stream": "stdout",
       "text": [
        "\n",
        "Post BOW Dataset: (22316, 125799), (22316,)"
       ]
      },
      {
       "output_type": "stream",
       "stream": "stderr",
       "text": [
        "\n",
        "Arguments {'k': 5, 'weights': 'distance'}\n",
        "Arguments {'k': 5, 'weights': 'distance'}"
       ]
      },
      {
       "output_type": "stream",
       "stream": "stdout",
       "text": [
        "\n",
        "{'f1': 0.00027337342810278845, 'recall': 0.0008201202843083652, 'n_pred': 7316, 'precision': 0.00016402405686167306, 'coverage': 5.0, 'n_truth': 7316}"
       ]
      },
      {
       "output_type": "stream",
       "stream": "stdout",
       "text": [
        "\n",
        "Saved probability model"
       ]
      },
      {
       "output_type": "stream",
       "stream": "stderr",
       "text": [
        "\n",
        "Found 2364 unique locations\n",
        "Found test set, computing precision, recall\n",
        "Test shape: ((7316, 125799), (7316,))\n",
        "error in train <cluster.PModel object at 0x14baec090>"
       ]
      },
      {
       "output_type": "stream",
       "stream": "stderr",
       "text": [
        "\n",
        "Training {'k': 7, 'weights': 'uniform'}"
       ]
      },
      {
       "output_type": "stream",
       "stream": "stdout",
       "text": [
        "\n",
        "[trainer] loading existing data at train.csv"
       ]
      },
      {
       "output_type": "stream",
       "stream": "stdout",
       "text": [
        "\n",
        "Post BOW Dataset: (22316, 125799), (22316,)"
       ]
      },
      {
       "output_type": "stream",
       "stream": "stderr",
       "text": [
        "\n",
        "Arguments {'k': 7, 'weights': 'uniform'}\n",
        "Arguments {'k': 7, 'weights': 'uniform'}"
       ]
      },
      {
       "output_type": "stream",
       "stream": "stdout",
       "text": [
        "\n",
        "{'f1': 0.00037588846364133404, 'recall': 0.0015035538545653362, 'n_pred': 7316, 'precision': 0.00021479340779504804, 'coverage': 7.0, 'n_truth': 7316}"
       ]
      },
      {
       "output_type": "stream",
       "stream": "stdout",
       "text": [
        "\n",
        "Saved probability model"
       ]
      },
      {
       "output_type": "stream",
       "stream": "stderr",
       "text": [
        "\n",
        "Found 2364 unique locations\n",
        "Found test set, computing precision, recall\n",
        "Test shape: ((7316, 125799), (7316,))\n",
        "error in train <cluster.PModel object at 0x14b03a390>"
       ]
      },
      {
       "output_type": "stream",
       "stream": "stderr",
       "text": [
        "\n",
        "Training {'k': 7, 'weights': 'distance'}"
       ]
      },
      {
       "output_type": "stream",
       "stream": "stdout",
       "text": [
        "\n",
        "[trainer] loading existing data at train.csv"
       ]
      },
      {
       "output_type": "stream",
       "stream": "stdout",
       "text": [
        "\n",
        "Post BOW Dataset: (22316, 125799), (22316,)"
       ]
      },
      {
       "output_type": "stream",
       "stream": "stderr",
       "text": [
        "\n",
        "Arguments {'k': 7, 'weights': 'distance'}\n",
        "Arguments {'k': 7, 'weights': 'distance'}"
       ]
      },
      {
       "output_type": "stream",
       "stream": "stdout",
       "text": [
        "\n",
        "{'f1': 0.00037588846364133404, 'recall': 0.0015035538545653362, 'n_pred': 7316, 'precision': 0.00021479340779504804, 'coverage': 7.0, 'n_truth': 7316}"
       ]
      },
      {
       "output_type": "stream",
       "stream": "stdout",
       "text": [
        "\n",
        "Saved probability model"
       ]
      },
      {
       "output_type": "stream",
       "stream": "stderr",
       "text": [
        "\n",
        "Found 2364 unique locations\n",
        "Found test set, computing precision, recall\n",
        "Test shape: ((7316, 125799), (7316,))\n",
        "error in train <cluster.PModel object at 0x130346110>"
       ]
      },
      {
       "output_type": "stream",
       "stream": "stderr",
       "text": [
        "\n",
        "Training {'k': 9, 'weights': 'uniform'}"
       ]
      },
      {
       "output_type": "stream",
       "stream": "stdout",
       "text": [
        "\n",
        "[trainer] loading existing data at train.csv"
       ]
      },
      {
       "output_type": "stream",
       "stream": "stdout",
       "text": [
        "\n",
        "Post BOW Dataset: (22316, 125799), (22316,)"
       ]
      },
      {
       "output_type": "stream",
       "stream": "stderr",
       "text": [
        "\n",
        "Arguments {'k': 9, 'weights': 'uniform'}\n",
        "Arguments {'k': 9, 'weights': 'uniform'}"
       ]
      },
      {
       "output_type": "stream",
       "stream": "stdout",
       "text": [
        "\n",
        "{'f1': 0.000519409513395298, 'recall': 0.00259704756697649, 'n_pred': 7316, 'precision': 0.00028856084077516557, 'coverage': 9.0, 'n_truth': 7316}"
       ]
      },
      {
       "output_type": "stream",
       "stream": "stdout",
       "text": [
        "\n",
        "Saved probability model"
       ]
      },
      {
       "output_type": "stream",
       "stream": "stderr",
       "text": [
        "\n",
        "Found 2364 unique locations\n",
        "Found test set, computing precision, recall\n",
        "Test shape: ((7316, 125799), (7316,))\n",
        "error in train <cluster.PModel object at 0x14d7ef3d0>"
       ]
      },
      {
       "output_type": "stream",
       "stream": "stderr",
       "text": [
        "\n",
        "Training {'k': 9, 'weights': 'distance'}"
       ]
      },
      {
       "output_type": "stream",
       "stream": "stdout",
       "text": [
        "\n",
        "[trainer] loading existing data at train.csv"
       ]
      },
      {
       "output_type": "stream",
       "stream": "stdout",
       "text": [
        "\n",
        "Post BOW Dataset: (22316, 125799), (22316,)"
       ]
      },
      {
       "output_type": "stream",
       "stream": "stderr",
       "text": [
        "\n",
        "Arguments {'k': 9, 'weights': 'distance'}\n",
        "Arguments {'k': 9, 'weights': 'distance'}"
       ]
      },
      {
       "output_type": "stream",
       "stream": "stdout",
       "text": [
        "\n",
        "{'f1': 0.000519409513395298, 'recall': 0.00259704756697649, 'n_pred': 7316, 'precision': 0.00028856084077516557, 'coverage': 9.0, 'n_truth': 7316}"
       ]
      },
      {
       "output_type": "stream",
       "stream": "stdout",
       "text": [
        "\n",
        "Saved probability model"
       ]
      },
      {
       "output_type": "stream",
       "stream": "stderr",
       "text": [
        "\n",
        "Found 2364 unique locations\n",
        "Found test set, computing precision, recall\n",
        "Test shape: ((7316, 125799), (7316,))\n",
        "error in train <cluster.PModel object at 0x120157b50>"
       ]
      },
      {
       "output_type": "stream",
       "stream": "stderr",
       "text": [
        "\n",
        "Training {'k': 11, 'weights': 'uniform'}"
       ]
      },
      {
       "output_type": "stream",
       "stream": "stdout",
       "text": [
        "\n",
        "[trainer] loading existing data at train.csv"
       ]
      },
      {
       "output_type": "stream",
       "stream": "stdout",
       "text": [
        "\n",
        "Post BOW Dataset: (22316, 125799), (22316,)"
       ]
      },
      {
       "output_type": "stream",
       "stream": "stderr",
       "text": [
        "\n",
        "Arguments {'k': 11, 'weights': 'uniform'}\n",
        "Arguments {'k': 11, 'weights': 'uniform'}"
       ]
      },
      {
       "output_type": "stream",
       "stream": "stdout",
       "text": [
        "\n",
        "{'f1': 0.0005011846181884453, 'recall': 0.0030071077091306723, 'n_pred': 7316, 'precision': 0.0002733734281027884, 'coverage': 11.0, 'n_truth': 7316}"
       ]
      },
      {
       "output_type": "stream",
       "stream": "stdout",
       "text": [
        "\n",
        "Saved probability model"
       ]
      },
      {
       "output_type": "stream",
       "stream": "stderr",
       "text": [
        "\n",
        "Found 2364 unique locations\n",
        "Found test set, computing precision, recall\n",
        "Test shape: ((7316, 125799), (7316,))\n",
        "error in train <cluster.PModel object at 0x1487dac50>"
       ]
      },
      {
       "output_type": "stream",
       "stream": "stderr",
       "text": [
        "\n",
        "Training {'k': 11, 'weights': 'distance'}"
       ]
      },
      {
       "output_type": "stream",
       "stream": "stdout",
       "text": [
        "\n",
        "[trainer] loading existing data at train.csv"
       ]
      },
      {
       "output_type": "stream",
       "stream": "stdout",
       "text": [
        "\n",
        "Post BOW Dataset: (22316, 125799), (22316,)"
       ]
      },
      {
       "output_type": "stream",
       "stream": "stderr",
       "text": [
        "\n",
        "Arguments {'k': 11, 'weights': 'distance'}\n",
        "Arguments {'k': 11, 'weights': 'distance'}"
       ]
      },
      {
       "output_type": "stream",
       "stream": "stdout",
       "text": [
        "\n",
        "{'f1': 0.0005011846181884453, 'recall': 0.0030071077091306723, 'n_pred': 7316, 'precision': 0.0002733734281027884, 'coverage': 11.0, 'n_truth': 7316}"
       ]
      },
      {
       "output_type": "stream",
       "stream": "stdout",
       "text": [
        "\n",
        "Saved probability model"
       ]
      },
      {
       "output_type": "stream",
       "stream": "stderr",
       "text": [
        "\n",
        "Found 2364 unique locations\n",
        "Found test set, computing precision, recall\n",
        "Test shape: ((7316, 125799), (7316,))\n",
        "error in train <cluster.PModel object at 0x12c122710>"
       ]
      },
      {
       "output_type": "stream",
       "stream": "stderr",
       "text": [
        "\n",
        "Training {'k': 13, 'weights': 'uniform'}"
       ]
      },
      {
       "output_type": "stream",
       "stream": "stdout",
       "text": [
        "\n",
        "[trainer] loading existing data at train.csv"
       ]
      },
      {
       "output_type": "stream",
       "stream": "stdout",
       "text": [
        "\n",
        "Post BOW Dataset: (22316, 125799), (22316,)"
       ]
      },
      {
       "output_type": "stream",
       "stream": "stderr",
       "text": [
        "\n",
        "Arguments {'k': 13, 'weights': 'uniform'}\n",
        "Arguments {'k': 13, 'weights': 'uniform'}"
       ]
      },
      {
       "output_type": "stream",
       "stream": "stdout",
       "text": [
        "\n",
        "{'f1': 0.0006053268765133172, 'recall': 0.00423728813559322, 'n_pred': 7316, 'precision': 0.0003259452411994785, 'coverage': 13.0, 'n_truth': 7316}"
       ]
      },
      {
       "output_type": "stream",
       "stream": "stdout",
       "text": [
        "\n",
        "Saved probability model"
       ]
      },
      {
       "output_type": "stream",
       "stream": "stderr",
       "text": [
        "\n",
        "Found 2364 unique locations\n",
        "Found test set, computing precision, recall\n",
        "Test shape: ((7316, 125799), (7316,))\n",
        "error in train <cluster.PModel object at 0x14cca8dd0>"
       ]
      },
      {
       "output_type": "stream",
       "stream": "stderr",
       "text": [
        "\n",
        "Training {'k': 13, 'weights': 'distance'}"
       ]
      },
      {
       "output_type": "stream",
       "stream": "stdout",
       "text": [
        "\n",
        "[trainer] loading existing data at train.csv"
       ]
      },
      {
       "output_type": "stream",
       "stream": "stdout",
       "text": [
        "\n",
        "Post BOW Dataset: (22316, 125799), (22316,)"
       ]
      },
      {
       "output_type": "stream",
       "stream": "stderr",
       "text": [
        "\n",
        "Arguments {'k': 13, 'weights': 'distance'}\n",
        "Arguments {'k': 13, 'weights': 'distance'}"
       ]
      },
      {
       "output_type": "stream",
       "stream": "stdout",
       "text": [
        "\n",
        "{'f1': 0.0006053268765133172, 'recall': 0.00423728813559322, 'n_pred': 7316, 'precision': 0.0003259452411994785, 'coverage': 13.0, 'n_truth': 7316}"
       ]
      },
      {
       "output_type": "stream",
       "stream": "stdout",
       "text": [
        "\n",
        "Saved probability model"
       ]
      },
      {
       "output_type": "stream",
       "stream": "stderr",
       "text": [
        "\n",
        "Found 2364 unique locations\n",
        "Found test set, computing precision, recall\n",
        "Test shape: ((7316, 125799), (7316,))\n",
        "error in train <cluster.PModel object at 0x11e31aa10>"
       ]
      },
      {
       "output_type": "stream",
       "stream": "stderr",
       "text": [
        "\n",
        "Training {'k': 15, 'weights': 'uniform'}"
       ]
      },
      {
       "output_type": "stream",
       "stream": "stdout",
       "text": [
        "\n",
        "[trainer] loading existing data at train.csv"
       ]
      },
      {
       "output_type": "stream",
       "stream": "stdout",
       "text": [
        "\n",
        "Post BOW Dataset: (22316, 125799), (22316,)"
       ]
      },
      {
       "output_type": "stream",
       "stream": "stderr",
       "text": [
        "\n",
        "Arguments {'k': 15, 'weights': 'uniform'}\n",
        "Arguments {'k': 15, 'weights': 'uniform'}"
       ]
      },
      {
       "output_type": "stream",
       "stream": "stdout",
       "text": [
        "\n",
        "{'f1': 0.0007346910880262438, 'recall': 0.005877528704209951, 'n_pred': 7316, 'precision': 0.00039183524694733004, 'coverage': 15.0, 'n_truth': 7316}"
       ]
      },
      {
       "output_type": "stream",
       "stream": "stdout",
       "text": [
        "\n",
        "Saved probability model"
       ]
      },
      {
       "output_type": "stream",
       "stream": "stderr",
       "text": [
        "\n",
        "Found 2364 unique locations\n",
        "Found test set, computing precision, recall\n",
        "Test shape: ((7316, 125799), (7316,))\n",
        "error in train <cluster.PModel object at 0x146f07610>"
       ]
      },
      {
       "output_type": "stream",
       "stream": "stderr",
       "text": [
        "\n",
        "Training {'k': 15, 'weights': 'distance'}"
       ]
      },
      {
       "output_type": "stream",
       "stream": "stdout",
       "text": [
        "\n",
        "[trainer] loading existing data at train.csv"
       ]
      },
      {
       "output_type": "stream",
       "stream": "stdout",
       "text": [
        "\n",
        "Post BOW Dataset: (22316, 125799), (22316,)"
       ]
      },
      {
       "output_type": "stream",
       "stream": "stderr",
       "text": [
        "\n",
        "Arguments {'k': 15, 'weights': 'distance'}\n",
        "Arguments {'k': 15, 'weights': 'distance'}"
       ]
      },
      {
       "output_type": "stream",
       "stream": "stdout",
       "text": [
        "\n",
        "{'f1': 0.0007346910880262438, 'recall': 0.005877528704209951, 'n_pred': 7316, 'precision': 0.00039183524694733004, 'coverage': 15.0, 'n_truth': 7316}"
       ]
      },
      {
       "output_type": "stream",
       "stream": "stdout",
       "text": [
        "\n",
        "Saved probability model"
       ]
      },
      {
       "output_type": "stream",
       "stream": "stderr",
       "text": [
        "\n",
        "Found 2364 unique locations\n",
        "Found test set, computing precision, recall\n",
        "Test shape: ((7316, 125799), (7316,))\n",
        "error in train <cluster.PModel object at 0x13b9c2cd0>"
       ]
      },
      {
       "output_type": "stream",
       "stream": "stderr",
       "text": [
        "\n",
        "Training {'k': 17, 'weights': 'uniform'}"
       ]
      },
      {
       "output_type": "stream",
       "stream": "stdout",
       "text": [
        "\n",
        "[trainer] loading existing data at train.csv"
       ]
      },
      {
       "output_type": "stream",
       "stream": "stdout",
       "text": [
        "\n",
        "Post BOW Dataset: (22316, 125799), (22316,)"
       ]
      },
      {
       "output_type": "stream",
       "stream": "stderr",
       "text": [
        "\n",
        "Arguments {'k': 17, 'weights': 'uniform'}\n",
        "Arguments {'k': 17, 'weights': 'uniform'}"
       ]
      },
      {
       "output_type": "stream",
       "stream": "stdout",
       "text": [
        "\n",
        "{'f1': 0.000941619585687382, 'recall': 0.00847457627118644, 'n_pred': 7316, 'precision': 0.0004985044865403788, 'coverage': 17.0, 'n_truth': 7316}"
       ]
      },
      {
       "output_type": "stream",
       "stream": "stdout",
       "text": [
        "\n",
        "Saved probability model"
       ]
      },
      {
       "output_type": "stream",
       "stream": "stderr",
       "text": [
        "\n",
        "Found 2364 unique locations\n",
        "Found test set, computing precision, recall\n",
        "Test shape: ((7316, 125799), (7316,))\n",
        "error in train <cluster.PModel object at 0x14d421750>"
       ]
      },
      {
       "output_type": "stream",
       "stream": "stderr",
       "text": [
        "\n",
        "Training {'k': 17, 'weights': 'distance'}"
       ]
      },
      {
       "output_type": "stream",
       "stream": "stdout",
       "text": [
        "\n",
        "[trainer] loading existing data at train.csv"
       ]
      },
      {
       "output_type": "stream",
       "stream": "stdout",
       "text": [
        "\n",
        "Post BOW Dataset: (22316, 125799), (22316,)"
       ]
      },
      {
       "output_type": "stream",
       "stream": "stderr",
       "text": [
        "\n",
        "Arguments {'k': 17, 'weights': 'distance'}\n",
        "Arguments {'k': 17, 'weights': 'distance'}"
       ]
      },
      {
       "output_type": "stream",
       "stream": "stdout",
       "text": [
        "\n",
        "{'f1': 0.000941619585687382, 'recall': 0.00847457627118644, 'n_pred': 7316, 'precision': 0.0004985044865403788, 'coverage': 17.0, 'n_truth': 7316}"
       ]
      },
      {
       "output_type": "stream",
       "stream": "stdout",
       "text": [
        "\n",
        "Saved probability model"
       ]
      },
      {
       "output_type": "stream",
       "stream": "stderr",
       "text": [
        "\n",
        "Found 2364 unique locations\n",
        "Found test set, computing precision, recall\n",
        "Test shape: ((7316, 125799), (7316,))\n",
        "error in train <cluster.PModel object at 0x14cc57310>"
       ]
      },
      {
       "output_type": "stream",
       "stream": "stderr",
       "text": [
        "\n",
        "Training {'k': 19, 'weights': 'uniform'}"
       ]
      },
      {
       "output_type": "stream",
       "stream": "stdout",
       "text": [
        "\n",
        "[trainer] loading existing data at train.csv"
       ]
      },
      {
       "output_type": "stream",
       "stream": "stdout",
       "text": [
        "\n",
        "Post BOW Dataset: (22316, 125799), (22316,)"
       ]
      },
      {
       "output_type": "stream",
       "stream": "stderr",
       "text": [
        "\n",
        "Arguments {'k': 19, 'weights': 'uniform'}\n",
        "Arguments {'k': 19, 'weights': 'uniform'}"
       ]
      },
      {
       "output_type": "stream",
       "stream": "stdout",
       "text": [
        "\n",
        "{'f1': 0.0008884636413340623, 'recall': 0.008884636413340623, 'n_pred': 7316, 'precision': 0.0004676124428074012, 'coverage': 19.0, 'n_truth': 7316}"
       ]
      },
      {
       "output_type": "stream",
       "stream": "stdout",
       "text": [
        "\n",
        "Saved probability model"
       ]
      },
      {
       "output_type": "stream",
       "stream": "stderr",
       "text": [
        "\n",
        "Found 2364 unique locations\n",
        "Found test set, computing precision, recall\n",
        "Test shape: ((7316, 125799), (7316,))\n",
        "error in train <cluster.PModel object at 0x12ae73d10>"
       ]
      },
      {
       "output_type": "stream",
       "stream": "stderr",
       "text": [
        "\n",
        "Training {'k': 19, 'weights': 'distance'}"
       ]
      },
      {
       "output_type": "stream",
       "stream": "stdout",
       "text": [
        "\n",
        "[trainer] loading existing data at train.csv"
       ]
      },
      {
       "output_type": "stream",
       "stream": "stdout",
       "text": [
        "\n",
        "Post BOW Dataset: (22316, 125799), (22316,)"
       ]
      },
      {
       "output_type": "stream",
       "stream": "stderr",
       "text": [
        "\n",
        "Arguments {'k': 19, 'weights': 'distance'}\n",
        "Arguments {'k': 19, 'weights': 'distance'}"
       ]
      },
      {
       "output_type": "stream",
       "stream": "stdout",
       "text": [
        "\n",
        "{'f1': 0.0008884636413340623, 'recall': 0.008884636413340623, 'n_pred': 7316, 'precision': 0.0004676124428074012, 'coverage': 19.0, 'n_truth': 7316}"
       ]
      },
      {
       "output_type": "stream",
       "stream": "stdout",
       "text": [
        "\n",
        "Saved probability model"
       ]
      },
      {
       "output_type": "stream",
       "stream": "stderr",
       "text": [
        "\n",
        "Found 2364 unique locations\n",
        "Found test set, computing precision, recall\n",
        "Test shape: ((7316, 125799), (7316,))\n",
        "error in train <cluster.PModel object at 0x12a2c8350>"
       ]
      },
      {
       "output_type": "stream",
       "stream": "stderr",
       "text": [
        "\n",
        "Training {'k': 21, 'weights': 'uniform'}"
       ]
      },
      {
       "output_type": "stream",
       "stream": "stdout",
       "text": [
        "\n",
        "[trainer] loading existing data at train.csv"
       ]
      },
      {
       "output_type": "stream",
       "stream": "stdout",
       "text": [
        "\n",
        "Post BOW Dataset: (22316, 125799), (22316,)"
       ]
      },
      {
       "output_type": "stream",
       "stream": "stderr",
       "text": [
        "\n",
        "Arguments {'k': 21, 'weights': 'uniform'}\n",
        "Arguments {'k': 21, 'weights': 'uniform'}"
       ]
      },
      {
       "output_type": "stream",
       "stream": "stdout",
       "text": [
        "\n",
        "{'f1': 0.0008946766737909438, 'recall': 0.009841443411700382, 'n_pred': 7316, 'precision': 0.00046864016246192297, 'coverage': 21.0, 'n_truth': 7316}"
       ]
      },
      {
       "output_type": "stream",
       "stream": "stdout",
       "text": [
        "\n",
        "Saved probability model"
       ]
      },
      {
       "output_type": "stream",
       "stream": "stderr",
       "text": [
        "\n",
        "Found 2364 unique locations\n",
        "Found test set, computing precision, recall\n",
        "Test shape: ((7316, 125799), (7316,))\n",
        "error in train <cluster.PModel object at 0x13b564e50>"
       ]
      },
      {
       "output_type": "stream",
       "stream": "stderr",
       "text": [
        "\n",
        "Training {'k': 21, 'weights': 'distance'}"
       ]
      },
      {
       "output_type": "stream",
       "stream": "stdout",
       "text": [
        "\n",
        "[trainer] loading existing data at train.csv"
       ]
      },
      {
       "output_type": "stream",
       "stream": "stdout",
       "text": [
        "\n",
        "Post BOW Dataset: (22316, 125799), (22316,)"
       ]
      },
      {
       "output_type": "stream",
       "stream": "stderr",
       "text": [
        "\n",
        "Arguments {'k': 21, 'weights': 'distance'}\n",
        "Arguments {'k': 21, 'weights': 'distance'}"
       ]
      },
      {
       "output_type": "stream",
       "stream": "stdout",
       "text": [
        "\n",
        "{'f1': 0.0008946766737909438, 'recall': 0.009841443411700382, 'n_pred': 7316, 'precision': 0.00046864016246192297, 'coverage': 21.0, 'n_truth': 7316}"
       ]
      },
      {
       "output_type": "stream",
       "stream": "stdout",
       "text": [
        "\n",
        "Saved probability model"
       ]
      },
      {
       "output_type": "stream",
       "stream": "stderr",
       "text": [
        "\n",
        "Found 2364 unique locations\n",
        "Found test set, computing precision, recall\n",
        "Test shape: ((7316, 125799), (7316,))\n",
        "error in train <cluster.PModel object at 0x149f09cd0>"
       ]
      },
      {
       "output_type": "stream",
       "stream": "stderr",
       "text": [
        "\n",
        "Training {'k': 23, 'weights': 'uniform'}"
       ]
      },
      {
       "output_type": "stream",
       "stream": "stdout",
       "text": [
        "\n",
        "[trainer] loading existing data at train.csv"
       ]
      },
      {
       "output_type": "stream",
       "stream": "stdout",
       "text": [
        "\n",
        "Post BOW Dataset: (22316, 125799), (22316,)"
       ]
      },
      {
       "output_type": "stream",
       "stream": "stderr",
       "text": [
        "\n",
        "Arguments {'k': 23, 'weights': 'uniform'}\n",
        "Arguments {'k': 23, 'weights': 'uniform'}"
       ]
      },
      {
       "output_type": "stream",
       "stream": "stdout",
       "text": [
        "\n",
        "{'f1': 0.000911244760342628, 'recall': 0.010934937124111536, 'n_pred': 7316, 'precision': 0.00047543204887441463, 'coverage': 23.0, 'n_truth': 7316}"
       ]
      },
      {
       "output_type": "stream",
       "stream": "stdout",
       "text": [
        "\n",
        "Saved probability model"
       ]
      },
      {
       "output_type": "stream",
       "stream": "stderr",
       "text": [
        "\n",
        "Found 2364 unique locations\n",
        "Found test set, computing precision, recall\n",
        "Test shape: ((7316, 125799), (7316,))\n",
        "error in train <cluster.PModel object at 0x133b59710>"
       ]
      },
      {
       "output_type": "stream",
       "stream": "stderr",
       "text": [
        "\n",
        "Training {'k': 23, 'weights': 'distance'}"
       ]
      },
      {
       "output_type": "stream",
       "stream": "stdout",
       "text": [
        "\n",
        "[trainer] loading existing data at train.csv"
       ]
      },
      {
       "output_type": "stream",
       "stream": "stdout",
       "text": [
        "\n",
        "Post BOW Dataset: (22316, 125799), (22316,)"
       ]
      },
      {
       "output_type": "stream",
       "stream": "stderr",
       "text": [
        "\n",
        "Arguments {'k': 23, 'weights': 'distance'}\n",
        "Arguments {'k': 23, 'weights': 'distance'}"
       ]
      },
      {
       "output_type": "stream",
       "stream": "stdout",
       "text": [
        "\n",
        "{'f1': 0.000911244760342628, 'recall': 0.010934937124111536, 'n_pred': 7316, 'precision': 0.00047543204887441463, 'coverage': 23.0, 'n_truth': 7316}"
       ]
      },
      {
       "output_type": "stream",
       "stream": "stdout",
       "text": [
        "\n",
        "Saved probability model"
       ]
      },
      {
       "output_type": "stream",
       "stream": "stderr",
       "text": [
        "\n",
        "Found 2364 unique locations\n",
        "Found test set, computing precision, recall\n",
        "Test shape: ((7316, 125799), (7316,))\n",
        "error in train <cluster.PModel object at 0x14606a890>"
       ]
      },
      {
       "output_type": "stream",
       "stream": "stderr",
       "text": [
        "\n",
        "Training {'k': 25, 'weights': 'uniform'}"
       ]
      },
      {
       "output_type": "stream",
       "stream": "stdout",
       "text": [
        "\n",
        "[trainer] loading existing data at train.csv"
       ]
      },
      {
       "output_type": "stream",
       "stream": "stdout",
       "text": [
        "\n",
        "Post BOW Dataset: (22316, 125799), (22316,)"
       ]
      },
      {
       "output_type": "stream",
       "stream": "stderr",
       "text": [
        "\n",
        "Arguments {'k': 25, 'weights': 'uniform'}\n",
        "Arguments {'k': 25, 'weights': 'uniform'}"
       ]
      },
      {
       "output_type": "stream",
       "stream": "stdout",
       "text": [
        "\n",
        "{'f1': 0.0009673213609790975, 'recall': 0.012575177692728267, 'n_pred': 7316, 'precision': 0.0005030071077091307, 'coverage': 25.0, 'n_truth': 7316}"
       ]
      },
      {
       "output_type": "stream",
       "stream": "stdout",
       "text": [
        "\n",
        "Saved probability model"
       ]
      },
      {
       "output_type": "stream",
       "stream": "stderr",
       "text": [
        "\n",
        "Found 2364 unique locations\n",
        "Found test set, computing precision, recall\n",
        "Test shape: ((7316, 125799), (7316,))\n",
        "error in train <cluster.PModel object at 0x1493b4e10>"
       ]
      },
      {
       "output_type": "stream",
       "stream": "stderr",
       "text": [
        "\n",
        "Training {'k': 25, 'weights': 'distance'}"
       ]
      },
      {
       "output_type": "stream",
       "stream": "stdout",
       "text": [
        "\n",
        "[trainer] loading existing data at train.csv"
       ]
      },
      {
       "output_type": "stream",
       "stream": "stdout",
       "text": [
        "\n",
        "Post BOW Dataset: (22316, 125799), (22316,)"
       ]
      },
      {
       "output_type": "stream",
       "stream": "stderr",
       "text": [
        "\n",
        "Arguments {'k': 25, 'weights': 'distance'}\n",
        "Arguments {'k': 25, 'weights': 'distance'}"
       ]
      },
      {
       "output_type": "stream",
       "stream": "stdout",
       "text": [
        "\n",
        "{'f1': 0.0009673213609790975, 'recall': 0.012575177692728267, 'n_pred': 7316, 'precision': 0.0005030071077091307, 'coverage': 25.0, 'n_truth': 7316}"
       ]
      },
      {
       "output_type": "stream",
       "stream": "stdout",
       "text": [
        "\n",
        "Saved probability model"
       ]
      },
      {
       "output_type": "stream",
       "stream": "stderr",
       "text": [
        "\n",
        "Found 2364 unique locations\n",
        "Found test set, computing precision, recall\n",
        "Test shape: ((7316, 125799), (7316,))\n",
        "error in train <cluster.PModel object at 0x14d3cd750>"
       ]
      },
      {
       "output_type": "stream",
       "stream": "stdout",
       "text": [
        "\n",
        "                                    cfg        f1  precision    recall\n",
        "0     {u'k': 5, u'weights': u'uniform'}  0.000273   0.000164  0.000820\n",
        "1    {u'k': 5, u'weights': u'distance'}  0.000273   0.000164  0.000820\n",
        "2     {u'k': 7, u'weights': u'uniform'}  0.000376   0.000215  0.001504\n",
        "3    {u'k': 7, u'weights': u'distance'}  0.000376   0.000215  0.001504\n",
        "4     {u'k': 9, u'weights': u'uniform'}  0.000519   0.000289  0.002597\n",
        "5    {u'k': 9, u'weights': u'distance'}  0.000519   0.000289  0.002597\n",
        "6    {u'k': 11, u'weights': u'uniform'}  0.000501   0.000273  0.003007\n",
        "7   {u'k': 11, u'weights': u'distance'}  0.000501   0.000273  0.003007\n",
        "8    {u'k': 13, u'weights': u'uniform'}  0.000605   0.000326  0.004237\n",
        "9   {u'k': 13, u'weights': u'distance'}  0.000605   0.000326  0.004237\n",
        "10   {u'k': 15, u'weights': u'uniform'}  0.000735   0.000392  0.005878\n",
        "11  {u'k': 15, u'weights': u'distance'}  0.000735   0.000392  0.005878\n",
        "12   {u'k': 17, u'weights': u'uniform'}  0.000942   0.000499  0.008475\n",
        "13  {u'k': 17, u'weights': u'distance'}  0.000942   0.000499  0.008475\n",
        "14   {u'k': 19, u'weights': u'uniform'}  0.000888   0.000468  0.008885\n",
        "15  {u'k': 19, u'weights': u'distance'}  0.000888   0.000468  0.008885\n",
        "16   {u'k': 21, u'weights': u'uniform'}  0.000895   0.000469  0.009841\n",
        "17  {u'k': 21, u'weights': u'distance'}  0.000895   0.000469  0.009841\n",
        "18   {u'k': 23, u'weights': u'uniform'}  0.000911   0.000475  0.010935\n",
        "19  {u'k': 23, u'weights': u'distance'}  0.000911   0.000475  0.010935\n",
        "20   {u'k': 25, u'weights': u'uniform'}  0.000967   0.000503  0.012575\n",
        "21  {u'k': 25, u'weights': u'distance'}  0.000967   0.000503  0.012575"
       ]
      },
      {
       "output_type": "stream",
       "stream": "stdout",
       "text": [
        "\n"
       ]
      },
      {
       "output_type": "stream",
       "stream": "stderr",
       "text": [
        "\n"
       ]
      },
      {
       "metadata": {},
       "output_type": "display_data",
       "png": "[encoded data removed]",
       "text": [
        "<matplotlib.figure.Figure at 0x1246b1fd0>"
       ]
      }
     ],
     "prompt_number": 5
    },
    {
     "cell_type": "code",
     "collapsed": false,
     "input": [],
     "language": "python",
     "metadata": {},
     "outputs": [],
     "prompt_number": 5
    }
   ],
   "metadata": {}
  }
 ]
}