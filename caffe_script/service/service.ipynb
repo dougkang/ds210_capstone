{
 "cells": [
  {
   "cell_type": "code",
   "execution_count": 15,
   "metadata": {
    "collapsed": false
   },
   "outputs": [
    {
     "name": "stdout",
     "output_type": "stream",
     "text": [
      "Overwriting service.py\n"
     ]
    }
   ],
   "source": [
    "%%writefile service.py\n",
    "import web\n",
    "import json\n",
    "# import index\n",
    "\n",
    "urls = (\n",
    "    '/', 'index'\n",
    ")\n",
    "\n",
    "class index:\n",
    "    #for testing purpose\n",
    "    def GET(self):\n",
    "        pyDict = {'test1':'works','test2':\"works too\"}\n",
    "        web.header('Content-Type', 'application/json')\n",
    "        return json.dumps(pyDict)\n",
    "\n",
    "    def POST(self):\n",
    "#         pyDict = {'one':1,'two':2}\n",
    "        pyDict = web.input()\n",
    "        web.header('Content-Type', 'application/json')\n",
    "        return json.dumps(pyDict)\n",
    "\n",
    "##ORIGINAL TEST CODE\n",
    "# class index:\n",
    "#     def GET(self):\n",
    "#         return \"Hello1, world!\"\n",
    "    \n",
    "    \n",
    "if __name__ == \"__main__\":\n",
    "    app = web.application(urls, globals())\n",
    "    app.run()"
   ]
  },
  {
   "cell_type": "code",
   "execution_count": null,
   "metadata": {
    "collapsed": true
   },
   "outputs": [],
   "source": []
  },
  {
   "cell_type": "code",
   "execution_count": 7,
   "metadata": {
    "collapsed": false
   },
   "outputs": [
    {
     "name": "stdout",
     "output_type": "stream",
     "text": [
      "http://0.0.0.0:8080/\n",
      "^C\n"
     ]
    }
   ],
   "source": [
    "!chmod +x service.py\n",
    "!python service.py"
   ]
  },
  {
   "cell_type": "markdown",
   "metadata": {},
   "source": [
    "##Create Restful Web.py App"
   ]
  },
  {
   "cell_type": "markdown",
   "metadata": {},
   "source": [
    "Adapted code from: https://gist.github.com/w0rm/3907294"
   ]
  },
  {
   "cell_type": "code",
   "execution_count": 8,
   "metadata": {
    "collapsed": false
   },
   "outputs": [
    {
     "name": "stdout",
     "output_type": "stream",
     "text": [
      "Overwriting app.py\n"
     ]
    }
   ],
   "source": [
    "%%writefile app.py\n",
    "import web\n",
    "import json\n",
    "from controller import Controller\n",
    "from baseline import Baseline\n",
    "\n",
    "urls = (\n",
    "    r'/resources(?:/(?P<resource_id>[0-9]+))?',\n",
    "    'ResourceController',\n",
    ")\n",
    "\n",
    "class ResourceController(Controller):\n",
    "\n",
    "    def list(self):\n",
    "        return \"list resources\", format\n",
    "\n",
    "    def baseline(self):\n",
    "        request = json.loads(web.data())\n",
    "        b = Baseline()\n",
    "        respond = b.baseline_run(request)\n",
    "        \n",
    "        return respond\n",
    "        \n",
    "## ORIGINAL RESTFUL CONTROLLER\n",
    "#     def get(self, resource_id):\n",
    "#         return \"retrieved resource\", resource_id\n",
    "\n",
    "#     def create(self):\n",
    "#         resource = json.loads(web.data())\n",
    "#         return \"created resource\", resource\n",
    "\n",
    "#     def update(self, resource_id):\n",
    "#         resource = json.loads(web.data())\n",
    "#         return \"updated resource\", resource_id, resource\n",
    "\n",
    "#     def delete(self, resource_id):\n",
    "#         return \"deleted resource\", resource_id\n",
    "\n",
    "app = web.application(urls, globals())\n",
    "\n",
    "if __name__ == \"__main__\":\n",
    "    app.run()"
   ]
  },
  {
   "cell_type": "code",
   "execution_count": 2,
   "metadata": {
    "collapsed": false
   },
   "outputs": [
    {
     "name": "stdout",
     "output_type": "stream",
     "text": [
      "Overwriting controller.py\n"
     ]
    }
   ],
   "source": [
    "%%writefile controller.py\n",
    "import web\n",
    "\n",
    "class Controller:\n",
    "\n",
    "    methods = (\"list\", \"get\", \"create\", \"update\", \"delete\",\n",
    "               \"update_collection\", \"delete_collection\")\n",
    "\n",
    "    def __getattr__(self, name):\n",
    "        if name in self.methods and \"headers\" in web.ctx:\n",
    "            raise web.badrequest()\n",
    "        else:\n",
    "            raise AttributeError\n",
    "\n",
    "    def POST(self, resource_id=None):\n",
    "        if resource_id==\"1\":\n",
    "            return self.baseline()\n",
    "        elif resource_id==\"2\":\n",
    "            return 'post_model2'\n",
    "        else:\n",
    "            raise web.badrequest()\n",
    "\n",
    "## ORIGINAL CRUD OPERATION FROM RESTFUL CONTROLLER            \n",
    "#     def GET(self, resource_id=None):\n",
    "#         if resource_id is None:\n",
    "#             return self.list()\n",
    "#         else:\n",
    "#             return self.get(resource_id)\n",
    "#     #READ - TEST in browswer: http://localhost:8080/resources/23\n",
    "        \n",
    "#     def POST(self, resource_id=None):\n",
    "#         if resource_id is None:\n",
    "#             return self.create()\n",
    "#         else:\n",
    "#             raise web.badrequest()\n",
    "#     #CREATE - TEST in terminal: curl -X POST  -H \"Content-Type: application/json\" -d '{\"title\":\"a title\",\"description\":\"a description\",\"type\":\"a type\",\"author\":\"an author\"}' -i http://localhost:8080/resources/\n",
    "    \n",
    "#     def PUT(self, resource_id=None):\n",
    "#         if resource_id is None:\n",
    "#             return self.update_collection()\n",
    "#         else:\n",
    "#             return self.update(resource_id)\n",
    "#     #UPDATE: TEST in terminal: curl -X PUT  -H \"Content-Type: application/json\" -d '{\"id\":\"23\", \"title\":\"a title\",\"description\":\"a description\",\"type\":\"a type\",\"author\":\"an author\"}' -i http://localhost:8080/resources/23\n",
    "    \n",
    "#     def DELETE(self, resource_id=None):\n",
    "#         if resource_id is None:\n",
    "#             return self.delete_collection()\n",
    "#         else:\n",
    "#             return self.delete(resource_id)\n",
    "#     #DELETE: TEST in terminal: curl -X DELETE http://localhost:8080/resources/23"
   ]
  },
  {
   "cell_type": "code",
   "execution_count": 22,
   "metadata": {
    "collapsed": true
   },
   "outputs": [],
   "source": [
    "!chmod +x app.py\n",
    "!chmod +x controller.py\n",
    "\n"
   ]
  },
  {
   "cell_type": "code",
   "execution_count": null,
   "metadata": {
    "collapsed": true
   },
   "outputs": [],
   "source": [
    "!nohup python app.py 3000 &"
   ]
  }
 ],
 "metadata": {
  "kernelspec": {
   "display_name": "Python 2",
   "language": "python",
   "name": "python2"
  },
  "language_info": {
   "codemirror_mode": {
    "name": "ipython",
    "version": 2
   },
   "file_extension": ".py",
   "mimetype": "text/x-python",
   "name": "python",
   "nbconvert_exporter": "python",
   "pygments_lexer": "ipython2",
   "version": "2.7.10"
  }
 },
 "nbformat": 4,
 "nbformat_minor": 0
}
